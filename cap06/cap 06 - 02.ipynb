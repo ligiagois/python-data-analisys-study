{
 "cells": [
  {
   "cell_type": "markdown",
   "id": "84bfec68",
   "metadata": {},
   "source": [
    "# Manipulando os Arquivos 02"
   ]
  },
  {
   "cell_type": "markdown",
   "id": "79ef4e43",
   "metadata": {},
   "source": [
    "# Manipulando Arquivos TXT"
   ]
  },
  {
   "cell_type": "markdown",
   "id": "f2df0b1f",
   "metadata": {},
   "source": [
    "TXT é a extensão de arquivos de texto puro. Um arquivo TXT é um arquivo de texto simples sem formatação, como negrito, itálico \n",
    "ou fontes diferentes. Ele pode ser aberto e editado com muitos aplicativos diferentes, incluindo editores de texto, \n",
    "proccessadores de texto e IDESs. Arquivos TXT são amplamente utilizados para armazenar dados de texto simples, como listas, \n",
    "notas e documentos de texto. Eles são universais e podem ser lidos em praticamente qualquer dispositivo ou sistema operacional."
   ]
  },
  {
   "cell_type": "code",
   "execution_count": 1,
   "id": "7913283f",
   "metadata": {},
   "outputs": [],
   "source": [
    "texto = \"Cientista de Dados pode ser uma excelente alternativa de carreira \\n\"\n",
    "texto = texto + \"Esses profissionais precisam saber como programar em Python,\\n\"\n",
    "texto += \"E, claro devem ser proficientes em Data Science.\""
   ]
  },
  {
   "cell_type": "code",
   "execution_count": 2,
   "id": "c5e58180",
   "metadata": {},
   "outputs": [
    {
     "name": "stdout",
     "output_type": "stream",
     "text": [
      "Cientista de Dados pode ser uma excelente alternativa de carreira \n",
      "Esses profissionais precisam saber como programar em Python,\n",
      "E, claro devem ser proficientes em Data Science.\n"
     ]
    }
   ],
   "source": [
    "print(texto)"
   ]
  },
  {
   "cell_type": "code",
   "execution_count": 30,
   "id": "68702962",
   "metadata": {},
   "outputs": [],
   "source": [
    "#Importando o módulo os  # os: sistema operacional, pacote python que permite interagir com o sistema operacional de forma mais rapida e facil e já vem no anaconda\n",
    "import os "
   ]
  },
  {
   "cell_type": "code",
   "execution_count": 31,
   "id": "57193358",
   "metadata": {},
   "outputs": [],
   "source": [
    "#criando um arquivo #Abrindo arquivo para gravação\n",
    "arquivo = open(os.path.join('arquivos/cientista.txt'), 'w') #path: pacote caminho #join: pacote juntar"
   ]
  },
  {
   "cell_type": "code",
   "execution_count": 32,
   "id": "f4bf8888",
   "metadata": {},
   "outputs": [],
   "source": [
    "#Gravando os dados no arquivo\n",
    "# criando um loop para percorrer o texto criado logo acima\n",
    "for palavra in texto.split():  #quando n coloca nada entre parenteses faz o split com espaço\n",
    "    arquivo.write(palavra + ' ') \n",
    "#cada vez que quebrar a frase vai gravar cada um dos item direto no arquivo, qubra em palavras e gra"
   ]
  },
  {
   "cell_type": "code",
   "execution_count": 33,
   "id": "032b45dd",
   "metadata": {},
   "outputs": [],
   "source": [
    "#Fechando o arquivo\n",
    "arquivo.close()"
   ]
  },
  {
   "cell_type": "code",
   "execution_count": 34,
   "id": "4acd9dac",
   "metadata": {},
   "outputs": [
    {
     "name": "stdout",
     "output_type": "stream",
     "text": [
      "Cientista de Dados pode ser uma excelente alternativa de carreira Esses profissionais precisam saber como programar em Python, E, claro devem ser proficientes em Data Science. \n"
     ]
    }
   ],
   "source": [
    "#Lendo o arquivo\n",
    "arquivo = open('arquivos/cientista.txt', 'r')\n",
    "conteudo = arquivo.read()\n",
    "arquivo.close()\n",
    "\n",
    "print(conteudo)"
   ]
  },
  {
   "cell_type": "markdown",
   "id": "08f208a9",
   "metadata": {},
   "source": [
    "# Usando a expressão With"
   ]
  },
  {
   "cell_type": "markdown",
   "id": "ec5ed236",
   "metadata": {},
   "source": [
    "O método close() é executado automaticamente, \n",
    "com a expressão with não precisa fechar o arquivo quando usar"
   ]
  },
  {
   "cell_type": "code",
   "execution_count": 35,
   "id": "dd06244e",
   "metadata": {},
   "outputs": [],
   "source": [
    "with open('arquivos/cientista.txt', 'r') as arquivo:\n",
    "    conteudo = arquivo.read()"
   ]
  },
  {
   "cell_type": "code",
   "execution_count": 37,
   "id": "509c6b41",
   "metadata": {},
   "outputs": [
    {
     "name": "stdout",
     "output_type": "stream",
     "text": [
      "176\n"
     ]
    }
   ],
   "source": [
    "print(len(conteudo))"
   ]
  },
  {
   "cell_type": "code",
   "execution_count": 38,
   "id": "035d27b2",
   "metadata": {},
   "outputs": [
    {
     "name": "stdout",
     "output_type": "stream",
     "text": [
      "Cientista de Dados pode ser uma excelente alternativa de carreira Esses profissionais precisam saber como programar em Python, E, claro devem ser proficientes em Data Science. \n"
     ]
    }
   ],
   "source": [
    "print(conteudo)"
   ]
  },
  {
   "cell_type": "code",
   "execution_count": 39,
   "id": "23a1c167",
   "metadata": {},
   "outputs": [],
   "source": [
    "with open('arquivos/cientista.txt', 'w') as arquivo:\n",
    "    arquivo.write(texto[:19])\n",
    "    arquivo.write('\\n')\n",
    "    arquivo.write(texto[28:66])"
   ]
  },
  {
   "cell_type": "code",
   "execution_count": 41,
   "id": "f483977b",
   "metadata": {},
   "outputs": [
    {
     "name": "stdout",
     "output_type": "stream",
     "text": [
      "Cientista de Dados \n",
      "uma excelente alternativa de carreira \n"
     ]
    }
   ],
   "source": [
    "#Lendo o arquivo\n",
    "arquivo = open('arquivos/cientista.txt', 'r')\n",
    "conteudo = arquivo.read()\n",
    "arquivo.close()\n",
    "print(conteudo)"
   ]
  },
  {
   "cell_type": "markdown",
   "id": "32b0733f",
   "metadata": {},
   "source": [
    "\n",
    "# Manipulando Arquivoss CSV"
   ]
  },
  {
   "cell_type": "markdown",
   "id": "482310b6",
   "metadata": {},
   "source": [
    "CSV (Comma-Separated Values) é um formato de arquivo que armazena dados tabulares em formato de texto plano. Cada linha do arquivo CSV representa uma linha da tabela e as colunas são separadas por vírgulas. É amplamente utilizado para exportar e importar dados em diferentes aplicações, como planilhas e banco de dados. CSV é uma opção simples e universal para compartilhar dados, pois pode ser aberto e editado com muitos aplicativos diferentes, incluindo programas de planilha e editores de texto. "
   ]
  },
  {
   "cell_type": "code",
   "execution_count": 68,
   "id": "0bb5fac5",
   "metadata": {},
   "outputs": [],
   "source": [
    "import csv"
   ]
  },
  {
   "cell_type": "code",
   "execution_count": 70,
   "id": "d87fcb82",
   "metadata": {},
   "outputs": [],
   "source": [
    "with open('arquivos/numeros.csv', 'w') as arquivo:\n",
    "    writer = csv.writer(arquivo) #cria um objeto de gravação\n",
    "    writer.writerow(('nota1', 'nota2', 'nota3')) #grava no arquivo linha a linha\n",
    "    writer.writerow((63,87,92))\n",
    "    writer.writerow((61,79,76))\n",
    "    writer.writerow((72,64,91))"
   ]
  },
  {
   "cell_type": "code",
   "execution_count": 71,
   "id": "f5e309e0",
   "metadata": {},
   "outputs": [
    {
     "name": "stdout",
     "output_type": "stream",
     "text": [
      "['nota1', 'nota2', 'nota3']\n",
      "['63', '87', '92']\n",
      "['61', '79', '76']\n",
      "['72', '64', '91']\n"
     ]
    }
   ],
   "source": [
    "#Leitura do arquivo csv\n",
    "with open('arquivos/numeros.csv', 'r', encoding='utf8', newline ='\\r\\n') as arquivo:\n",
    "    leitor = csv.reader(arquivo) #cria objeto de leitura\n",
    "    for x in leitor: #loop\n",
    "        print(x)\n",
    "    \n",
    "    \n",
    "    # encoding: formato de caractere (importante)"
   ]
  },
  {
   "cell_type": "code",
   "execution_count": 72,
   "id": "ee38b28b",
   "metadata": {},
   "outputs": [],
   "source": [
    "#Gerando uma lista com dados do arquivo csv\n",
    "with open('arquivos/numeros.csv', 'r') as arquivo:\n",
    "    leitor = csv.reader(arquivo)\n",
    "    dados = list(leitor)"
   ]
  },
  {
   "cell_type": "code",
   "execution_count": 75,
   "id": "2d8f3c46",
   "metadata": {},
   "outputs": [
    {
     "name": "stdout",
     "output_type": "stream",
     "text": [
      "[['nota1', 'nota2', 'nota3'], [], ['63', '87', '92'], [], ['61', '79', '76'], [], ['72', '64', '91'], []]\n"
     ]
    }
   ],
   "source": [
    "print (dados)"
   ]
  },
  {
   "cell_type": "code",
   "execution_count": 74,
   "id": "7380b1df",
   "metadata": {},
   "outputs": [
    {
     "name": "stdout",
     "output_type": "stream",
     "text": [
      "[]\n",
      "['63', '87', '92']\n",
      "[]\n",
      "['61', '79', '76']\n",
      "[]\n",
      "['72', '64', '91']\n",
      "[]\n"
     ]
    }
   ],
   "source": [
    "#imprimindo a partir da segunda lista\n",
    "for linha in dados[1:]: #tirou o cabeçario\n",
    "    print(linha)"
   ]
  },
  {
   "cell_type": "markdown",
   "id": "df933862",
   "metadata": {},
   "source": [
    "# Manipulando Arquivos JSON( Java Script Object Noation)"
   ]
  },
  {
   "cell_type": "markdown",
   "id": "5fda235d",
   "metadata": {},
   "source": [
    "JSON (Java Script Object Notation) é um formato de dados de texto simples e leve que é utilizado para transmitir informações em aplicações web. É baseado em uma estrutura de objetos JavaScript e usa pares de chave-valor para representar dados. JSON é facilmente lido e escrito por máquinas e é amplamente utilizado como formato de intercâmbio de dados em aplicações web modernas."
   ]
  },
  {
   "cell_type": "code",
   "execution_count": 77,
   "id": "5bbaa0e6",
   "metadata": {},
   "outputs": [],
   "source": [
    "# criando um dicionário\n",
    "dict_guido = {'nome': 'Guido Van Rossum',\n",
    "             'linguagem': 'Python', \n",
    "             'similar' : ['c', 'Modula-3', 'lisp'],\n",
    "             'users': 1000000}"
   ]
  },
  {
   "cell_type": "code",
   "execution_count": 78,
   "id": "5b9c0a8c",
   "metadata": {},
   "outputs": [
    {
     "name": "stdout",
     "output_type": "stream",
     "text": [
      "nome Guido Van Rossum\n",
      "linguagem Python\n",
      "similar ['c', 'Modula-3', 'lisp']\n",
      "users 1000000\n"
     ]
    }
   ],
   "source": [
    "for k,v in dict_guido.items():\n",
    "    print(k,v)"
   ]
  },
  {
   "cell_type": "code",
   "execution_count": 79,
   "id": "4644fc4e",
   "metadata": {},
   "outputs": [],
   "source": [
    "#Importando o pacote JSON\n",
    "import json"
   ]
  },
  {
   "cell_type": "code",
   "execution_count": 80,
   "id": "02657802",
   "metadata": {},
   "outputs": [
    {
     "data": {
      "text/plain": [
       "'{\"nome\": \"Guido Van Rossum\", \"linguagem\": \"Python\", \"similar\": [\"c\", \"Modula-3\", \"lisp\"], \"users\": 1000000}'"
      ]
     },
     "execution_count": 80,
     "metadata": {},
     "output_type": "execute_result"
    }
   ],
   "source": [
    "#convertendo o dicionario para um objeto json\n",
    "json.dumps(dict_guido) #dumps: converte o dicionario para um arq em formato json"
   ]
  },
  {
   "cell_type": "code",
   "execution_count": 81,
   "id": "61feaf80",
   "metadata": {},
   "outputs": [],
   "source": [
    "#Criando um arquivo json\n",
    "with open('arquivos/dados.json', 'w') as arquivo:\n",
    "    arquivo.write(json.dumps(dict_guido))"
   ]
  },
  {
   "cell_type": "code",
   "execution_count": 83,
   "id": "35f87840",
   "metadata": {},
   "outputs": [],
   "source": [
    "#leitura de arquivos json\n",
    "with open('arquivos/dados.json', 'r') as arquivo:\n",
    "    texto = arquivo.read()\n",
    "    dados = json.loads(texto) #loads: carregar #carregar o texto em formato json"
   ]
  },
  {
   "cell_type": "code",
   "execution_count": 84,
   "id": "8cf65afd",
   "metadata": {},
   "outputs": [
    {
     "data": {
      "text/plain": [
       "{'nome': 'Guido Van Rossum',\n",
       " 'linguagem': 'Python',\n",
       " 'similar': ['c', 'Modula-3', 'lisp'],\n",
       " 'users': 1000000}"
      ]
     },
     "execution_count": 84,
     "metadata": {},
     "output_type": "execute_result"
    }
   ],
   "source": [
    "dados"
   ]
  },
  {
   "cell_type": "code",
   "execution_count": 85,
   "id": "35eea864",
   "metadata": {},
   "outputs": [
    {
     "name": "stdout",
     "output_type": "stream",
     "text": [
      "Guido Van Rossum\n"
     ]
    }
   ],
   "source": [
    "print(dados['nome'])"
   ]
  },
  {
   "cell_type": "markdown",
   "id": "cfc52f47",
   "metadata": {},
   "source": [
    "# Extração de Arquivos da Web"
   ]
  },
  {
   "cell_type": "code",
   "execution_count": 88,
   "id": "24479dec",
   "metadata": {},
   "outputs": [],
   "source": [
    "#imprimindo um arquivo JSON copiado da internet\n",
    "from urllib.request import urlopen\n",
    "\n",
    "response = urlopen(\"http://vimeo.com/api/v2/video/57733101.json\").read().decode('utf8')\n",
    "dados = json.loads(response)[0]"
   ]
  },
  {
   "cell_type": "code",
   "execution_count": 89,
   "id": "a6fd762b",
   "metadata": {},
   "outputs": [
    {
     "data": {
      "text/plain": [
       "{'id': 57733101,\n",
       " 'title': 'The Good Man trailer',\n",
       " 'description': 'Trailer for the Manifesto Films production, The Good Man, now available in UK/Ireland/US/Canada/Australia/New Zealand on iTunes (https://itunes.apple.com/us/movie/the-good-man/id873130906) and DVD (http://www.amazon.co.uk/The-Good-Man-Aiden-Gillen/dp/B00IIK6CGU/). Co-production with Jet Black Entertainment (South Africa). Starring Aidan Gillen, Thabang Sidloyi, Kelly Campbell, Lunathi Mampofu. Written & directed by Phil Harrison. More info at www.thegoodmanfilm.com<br />\\r\\n<br />\\r\\nCheck out the Variety Magazine review here: http://www.variety.com/review/VE1117947909/',\n",
       " 'url': 'https://vimeo.com/57733101',\n",
       " 'upload_date': '2013-01-19 04:01:15',\n",
       " 'thumbnail_small': 'http://i.vimeocdn.com/video/436057121-e828a1f5478ec0136e957753d107f2a1268c64def9b82faac37c8e30c031cff2-d_100x75',\n",
       " 'thumbnail_medium': 'http://i.vimeocdn.com/video/436057121-e828a1f5478ec0136e957753d107f2a1268c64def9b82faac37c8e30c031cff2-d_200x150',\n",
       " 'thumbnail_large': 'http://i.vimeocdn.com/video/436057121-e828a1f5478ec0136e957753d107f2a1268c64def9b82faac37c8e30c031cff2-d_640',\n",
       " 'user_id': 1334563,\n",
       " 'user_name': 'Manifesto Films',\n",
       " 'user_url': 'https://vimeo.com/manifestofilms',\n",
       " 'user_portrait_small': 'http://i.vimeocdn.com/portrait/4778306_30x30',\n",
       " 'user_portrait_medium': 'http://i.vimeocdn.com/portrait/4778306_75x75',\n",
       " 'user_portrait_large': 'http://i.vimeocdn.com/portrait/4778306_100x100',\n",
       " 'user_portrait_huge': 'http://i.vimeocdn.com/portrait/4778306_300x300',\n",
       " 'stats_number_of_likes': 17,\n",
       " 'stats_number_of_plays': 6551,\n",
       " 'stats_number_of_comments': 0,\n",
       " 'duration': 143,\n",
       " 'width': 1024,\n",
       " 'height': 576,\n",
       " 'tags': 'belfast, cape town, africa, ireland, film',\n",
       " 'embed_privacy': 'anywhere'}"
      ]
     },
     "execution_count": 89,
     "metadata": {},
     "output_type": "execute_result"
    }
   ],
   "source": [
    "dados"
   ]
  },
  {
   "cell_type": "code",
   "execution_count": 92,
   "id": "81a8ddc4",
   "metadata": {},
   "outputs": [
    {
     "name": "stdout",
     "output_type": "stream",
     "text": [
      "Titulo:  The Good Man trailer\n",
      "URL:  https://vimeo.com/57733101\n"
     ]
    }
   ],
   "source": [
    "print('Titulo: ', dados['title'])\n",
    "print('URL: ', dados['url'])"
   ]
  },
  {
   "cell_type": "markdown",
   "id": "73d3f6b3",
   "metadata": {},
   "source": [
    "Copiando o conteúdo de um arquivo para outro."
   ]
  },
  {
   "cell_type": "code",
   "execution_count": 93,
   "id": "246828d9",
   "metadata": {},
   "outputs": [],
   "source": [
    "#Nomes dos arquivos\n",
    "arquivo_fontes = 'arquivos/dados.json'\n",
    "arquivo_destino = 'arquivos/dados.txt'"
   ]
  },
  {
   "cell_type": "code",
   "execution_count": 97,
   "id": "ed1a1c5e",
   "metadata": {},
   "outputs": [],
   "source": [
    "#Método 1\n",
    "with open(arquivo_fontes,'r') as infile:\n",
    "    text = infile.read()\n",
    "    with open(arquivo_destino, 'w') as outfile:\n",
    "        outfile.write(text)"
   ]
  },
  {
   "cell_type": "code",
   "execution_count": 99,
   "id": "28ad5356",
   "metadata": {},
   "outputs": [
    {
     "data": {
      "text/plain": [
       "107"
      ]
     },
     "execution_count": 99,
     "metadata": {},
     "output_type": "execute_result"
    }
   ],
   "source": [
    "#Método 2\n",
    "open(arquivo_destino, 'w').write(open(arquivo_fontes, 'r').read())"
   ]
  },
  {
   "cell_type": "code",
   "execution_count": 101,
   "id": "199a8c74",
   "metadata": {},
   "outputs": [],
   "source": [
    "#Leitura do arquivo txt\n",
    "with open('arquivos/dados.txt', 'r') as arquivo:\n",
    "    texto= arquivo.read()\n",
    "    dados = json.loads(texto)"
   ]
  },
  {
   "cell_type": "code",
   "execution_count": 102,
   "id": "8b3ca61b",
   "metadata": {},
   "outputs": [
    {
     "name": "stdout",
     "output_type": "stream",
     "text": [
      "{'nome': 'Guido Van Rossum', 'linguagem': 'Python', 'similar': ['c', 'Modula-3', 'lisp'], 'users': 1000000}\n"
     ]
    }
   ],
   "source": [
    "print(dados)"
   ]
  },
  {
   "cell_type": "markdown",
   "id": "d14da8cb",
   "metadata": {},
   "source": [
    "# FIM"
   ]
  },
  {
   "cell_type": "code",
   "execution_count": null,
   "id": "2b6ee158",
   "metadata": {},
   "outputs": [],
   "source": []
  }
 ],
 "metadata": {
  "kernelspec": {
   "display_name": "Python 3 (ipykernel)",
   "language": "python",
   "name": "python3"
  },
  "language_info": {
   "codemirror_mode": {
    "name": "ipython",
    "version": 3
   },
   "file_extension": ".py",
   "mimetype": "text/x-python",
   "name": "python",
   "nbconvert_exporter": "python",
   "pygments_lexer": "ipython3",
   "version": "3.9.13"
  }
 },
 "nbformat": 4,
 "nbformat_minor": 5
}
