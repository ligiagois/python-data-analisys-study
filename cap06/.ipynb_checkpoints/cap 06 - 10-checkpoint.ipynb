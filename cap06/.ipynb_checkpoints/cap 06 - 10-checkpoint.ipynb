{
 "cells": [
  {
   "cell_type": "markdown",
   "id": "5a62e15b",
   "metadata": {},
   "source": [
    "# Expressões Regulares"
   ]
  },
  {
   "cell_type": "markdown",
   "id": "c9101cf6",
   "metadata": {},
   "source": [
    "São padrões usados para combinar ou encontrar ocorrências de sequências de caracteres em uma string. Em Python, expressões regulares são geralmente usadas para manipular strings e realizar tarefas como validaçãao de entrada de dados, extração de informações de strings e substituição de texto."
   ]
  },
  {
   "cell_type": "code",
   "execution_count": 1,
   "id": "42ccbb67",
   "metadata": {},
   "outputs": [],
   "source": [
    "import re"
   ]
  },
  {
   "cell_type": "code",
   "execution_count": 2,
   "id": "12fae5c5",
   "metadata": {},
   "outputs": [],
   "source": [
    "texto = \"Meu e-mail é exemplo@gmail.com e você pode me contatar em outro_email@yahoo.com\""
   ]
  },
  {
   "cell_type": "code",
   "execution_count": 3,
   "id": "caca172e",
   "metadata": {},
   "outputs": [],
   "source": [
    "#Expressão regular para contar quantas vezes o caracter arroba aparece no texto\n",
    "resultado = len(re.findall(\"@\", texto))"
   ]
  },
  {
   "cell_type": "code",
   "execution_count": 4,
   "id": "5c743a5c",
   "metadata": {},
   "outputs": [
    {
     "name": "stdout",
     "output_type": "stream",
     "text": [
      "O caracter '@' apareceu 2 vezes no texto.\n"
     ]
    }
   ],
   "source": [
    "print(\"O caracter '@' apareceu\", resultado, \"vezes no texto.\")"
   ]
  },
  {
   "cell_type": "code",
   "execution_count": 13,
   "id": "2bb2be2e",
   "metadata": {},
   "outputs": [],
   "source": [
    "#Expressão regular para extrair a palavra que aparece após a palavra 'você' em um texto\n",
    "resultado = re.findall(r'você (\\w+)', texto)\n",
    "# \\w = procura palavra, é bom lera documentação"
   ]
  },
  {
   "cell_type": "code",
   "execution_count": 14,
   "id": "ddf6b07d",
   "metadata": {},
   "outputs": [
    {
     "name": "stdout",
     "output_type": "stream",
     "text": [
      "A palavra após 'você' é:  pode\n"
     ]
    }
   ],
   "source": [
    "print(\"A palavra após 'você' é: \", resultado[0])"
   ]
  },
  {
   "cell_type": "markdown",
   "id": "50c210bd",
   "metadata": {},
   "source": [
    "Nota: O 'r' do (r'você (\\w+) antes da string que representa a expressão regular em Python é usado p indicar que a string é uma string literal raw. Isso ssignifica que as barras invertidas () não são interpretadas como caracteres de escape, mas são incluidas na expressão regular como parte do padrão. "
   ]
  },
  {
   "cell_type": "code",
   "execution_count": 16,
   "id": "e83cc302",
   "metadata": {},
   "outputs": [],
   "source": [
    "#expressão regular para extrair endereços de e-mail de uma string\n",
    "emails = re.findall(r'\\b[A-Za-z0-9._%+-]+@[A-Za-z0-9.-]+\\.[-z|a-z]{2,}\\b', texto)"
   ]
  },
  {
   "cell_type": "code",
   "execution_count": 17,
   "id": "253ad6df",
   "metadata": {},
   "outputs": [
    {
     "name": "stdout",
     "output_type": "stream",
     "text": [
      "['exemplo@gmail.com', 'outro_email@yahoo.com']\n"
     ]
    }
   ],
   "source": [
    "print(emails)"
   ]
  },
  {
   "cell_type": "code",
   "execution_count": 18,
   "id": "a829fd69",
   "metadata": {},
   "outputs": [],
   "source": [
    "text = \"O aluno estava incrivelmente perdido, mas encontrou a DSA e rapidamente começõu a aprender\""
   ]
  },
  {
   "cell_type": "code",
   "execution_count": 22,
   "id": "27052cca",
   "metadata": {},
   "outputs": [
    {
     "name": "stdout",
     "output_type": "stream",
     "text": [
      "15-28: incrivelmente\n",
      "60-71: rapidamente\n"
     ]
    }
   ],
   "source": [
    "#Extraindo os adverbios da frase\n",
    "for m in re.finditer(r\"\\w+mente\\b\", text):\n",
    "    print('%02d-%02d: %s' % (m.start(), m.end(), m.group(0)))"
   ]
  },
  {
   "cell_type": "markdown",
   "id": "fc69d4a4",
   "metadata": {},
   "source": [
    "# REGEX com ChatGPT"
   ]
  },
  {
   "cell_type": "code",
   "execution_count": 24,
   "id": "95c30119",
   "metadata": {},
   "outputs": [],
   "source": [
    "#Variável do tipo string\n",
    "musica = '''\n",
    "Todos os dias quando acordo\n",
    "Não tenho mais\n",
    "O tempo que passou\n",
    "Mas tenho muito tempo\n",
    "Temos todo o tempo do mundo\n",
    "Todos os dias\n",
    "Antes de dormir\n",
    "Lembro e esqueço\n",
    "Como foi o dia\n",
    "Sempre em frente\n",
    "Não temos tempo a perder\n",
    "Nosso suor sagrado\n",
    "É bem mais belo\n",
    "Que esse sangue amargo\n",
    "E tão sério\n",
    "E selvagem! Selvagem!\n",
    "Selvagem!\n",
    "Veja o sol\n",
    "Dessa manhã tão cinza\n",
    "A tempestade que chega\n",
    "É da cor dos teus olhos\n",
    "Castanhos\n",
    "Então me abraça forte\n",
    "E diz mais uma vez\n",
    "Que já estamos\n",
    "Distantes de tudo\n",
    "Temos nosso próprio tempo\n",
    "Temos nosso próprio tempo\n",
    "Temos nosso próprio tempo\n",
    "Não tenho medo do escuro\n",
    "Mas deixe as luzes\n",
    "Acesas agora\n",
    "O que foi escondido\n",
    "É o que se escondeu\n",
    "E o que foi prometido\n",
    "Ninguém prometeu\n",
    "Nem foi tempo perdido\n",
    "Somos tão jovens\n",
    "Tão jovens! Tão jovens!\n",
    "'''"
   ]
  },
  {
   "cell_type": "code",
   "execution_count": 25,
   "id": "2bfbaf11",
   "metadata": {
    "scrolled": true
   },
   "outputs": [
    {
     "name": "stdout",
     "output_type": "stream",
     "text": [
      "\n",
      "Todos os dias quando acordo\n",
      "Não tenho mais\n",
      "O tempo que passou\n",
      "Mas tenho muito tempo\n",
      "Temos todo o tempo do mundo\n",
      "Todos os dias\n",
      "Antes de dormir\n",
      "Lembro e esqueço\n",
      "Como foi o dia\n",
      "Sempre em frente\n",
      "Não temos tempo a perder\n",
      "Nosso suor sagrado\n",
      "É bem mais belo\n",
      "Que esse sangue amargo\n",
      "E tão sério\n",
      "E selvagem! Selvagem!\n",
      "Selvagem!\n",
      "Veja o sol\n",
      "Dessa manhã tão cinza\n",
      "A tempestade que chega\n",
      "É da cor dos teus olhos\n",
      "Castanhos\n",
      "Então me abraça forte\n",
      "E diz mais uma vez\n",
      "Que já estamos\n",
      "Distantes de tudo\n",
      "Temos nosso próprio tempo\n",
      "Temos nosso próprio tempo\n",
      "Temos nosso próprio tempo\n",
      "Não tenho medo do escuro\n",
      "Mas deixe as luzes\n",
      "Acesas agora\n",
      "O que foi escondido\n",
      "É o que se escondeu\n",
      "E o que foi prometido\n",
      "Ninguém prometeu\n",
      "Nem foi tempo perdido\n",
      "Somos tão jovens\n",
      "Tão jovens! Tão jovens!\n",
      "\n"
     ]
    }
   ],
   "source": [
    "print(musica)"
   ]
  },
  {
   "cell_type": "code",
   "execution_count": 26,
   "id": "c27610e1",
   "metadata": {},
   "outputs": [],
   "source": [
    "# 1- Crie um REGEX para contar quantas vezes o caracter \"a\" aparece em todo o texto da música\n",
    "# 2- Crie um REGEX para contar quantas vezes a palavra \"tempo\" aparece em todo o texto da música\n",
    "# 3- Crie um REGEX para extrair as palavras seguidas por exclamação \n",
    "# 4- Crie um REGEX que extrai qualquer palavra cujo antecessor seja a palavra \"esse\" e o sucesssor seja a palavra \"amargo\"\n",
    "# 5- Crie um REGEX que retorne as palavras com acentos, mas somente os caracteres na palavra que são anteriores ao caracter com acento"
   ]
  },
  {
   "cell_type": "markdown",
   "id": "ccc61fbd",
   "metadata": {},
   "source": [
    "Aqui está a solução"
   ]
  },
  {
   "cell_type": "code",
   "execution_count": 27,
   "id": "e9e7f9d9",
   "metadata": {},
   "outputs": [],
   "source": [
    "# 1- Crie um REGEX para contar quantas vezes o caracter \"a\" aparece em todo o texto da música"
   ]
  },
  {
   "cell_type": "code",
   "execution_count": 28,
   "id": "627f8eaa",
   "metadata": {},
   "outputs": [
    {
     "name": "stdout",
     "output_type": "stream",
     "text": [
      "O caractere 'a' aparece 39 vezes no texto.\n"
     ]
    }
   ],
   "source": [
    " ocorrencias = len(re.findall(\"a\", musica))\n",
    "\n",
    "print(\"O caractere 'a' aparece {} vezes no texto.\".format(ocorrencias))"
   ]
  },
  {
   "cell_type": "code",
   "execution_count": 29,
   "id": "a2a27435",
   "metadata": {},
   "outputs": [],
   "source": [
    "# 2- Crie um REGEX para contar quantas vezes a palavra \"tempo\" aparece em todo o texto da música"
   ]
  },
  {
   "cell_type": "code",
   "execution_count": 30,
   "id": "22eca007",
   "metadata": {},
   "outputs": [
    {
     "name": "stdout",
     "output_type": "stream",
     "text": [
      "A palavra 'tempo' aparece 8 vezes no texto.\n"
     ]
    }
   ],
   "source": [
    "ocorrencia = len(re.findall(r'\\btempo\\b', musica))\n",
    "\n",
    "print(f\"A palavra 'tempo' aparece {ocorrencia} vezes no texto.\")"
   ]
  },
  {
   "cell_type": "code",
   "execution_count": 31,
   "id": "ce52b721",
   "metadata": {},
   "outputs": [],
   "source": [
    "# 3- Crie um REGEX para extrair as palavras seguidas por exclamação "
   ]
  },
  {
   "cell_type": "code",
   "execution_count": 34,
   "id": "2aeb71ea",
   "metadata": {},
   "outputs": [
    {
     "name": "stdout",
     "output_type": "stream",
     "text": [
      "[]\n"
     ]
    }
   ],
   "source": [
    "palavras_exclamacao = re.findall(r'\\b\\w+!\\b', musica)\n",
    "\n",
    "print(palavras_exclamacao)"
   ]
  },
  {
   "cell_type": "code",
   "execution_count": 35,
   "id": "58d1ade1",
   "metadata": {},
   "outputs": [
    {
     "name": "stdout",
     "output_type": "stream",
     "text": [
      "['selvagem!', 'Selvagem!', 'Selvagem!', 'jovens!', 'jovens!']\n"
     ]
    }
   ],
   "source": [
    "palavras_exclamacao = re.findall(r'\\b\\w+!', musica)\n",
    "\n",
    "print(palavras_exclamacao)"
   ]
  },
  {
   "cell_type": "code",
   "execution_count": 36,
   "id": "e2e57426",
   "metadata": {},
   "outputs": [],
   "source": [
    "# 4- Crie um REGEX que extrai qualquer palavra cujo antecessor seja a palavra \"esse\" e o sucesssor seja a palavra \"amargo\""
   ]
  },
  {
   "cell_type": "code",
   "execution_count": 37,
   "id": "8edf018e",
   "metadata": {},
   "outputs": [
    {
     "name": "stdout",
     "output_type": "stream",
     "text": [
      "['sangue']\n"
     ]
    }
   ],
   "source": [
    "padrao = r\"(?<=esse\\s)\\w+(?=\\samargo)\"\n",
    "\n",
    "palavras = re.findall(padrao, musica, flags=re.IGNORECASE)\n",
    "\n",
    "print(palavras)"
   ]
  },
  {
   "cell_type": "code",
   "execution_count": 38,
   "id": "2d608b7f",
   "metadata": {},
   "outputs": [],
   "source": [
    "# 5- Crie um REGEX que retorne as palavras com acentos, mas somente os caracteres na palavra que são anteriores ao caracter com acento"
   ]
  },
  {
   "cell_type": "code",
   "execution_count": 39,
   "id": "b54fe9f4",
   "metadata": {},
   "outputs": [
    {
     "name": "stdout",
     "output_type": "stream",
     "text": [
      "['', 's', '', 'j', 'pr', 'pr', 'pr', '', 'Ningu']\n"
     ]
    }
   ],
   "source": [
    "padrao = r'\\b([a-zA-Z]*)[áéíóúÁÉÍÓÚ]'\n",
    "\n",
    "palavras_com_acento = re.findall(padrao, musica)\n",
    "\n",
    "print(palavras_com_acento)"
   ]
  },
  {
   "cell_type": "markdown",
   "id": "98caf690",
   "metadata": {},
   "source": [
    "# Fim"
   ]
  }
 ],
 "metadata": {
  "kernelspec": {
   "display_name": "Python 3 (ipykernel)",
   "language": "python",
   "name": "python3"
  },
  "language_info": {
   "codemirror_mode": {
    "name": "ipython",
    "version": 3
   },
   "file_extension": ".py",
   "mimetype": "text/x-python",
   "name": "python",
   "nbconvert_exporter": "python",
   "pygments_lexer": "ipython3",
   "version": "3.9.13"
  }
 },
 "nbformat": 4,
 "nbformat_minor": 5
}
