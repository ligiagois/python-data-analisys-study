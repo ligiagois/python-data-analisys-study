{
 "cells": [
  {
   "cell_type": "markdown",
   "id": "f906b45e",
   "metadata": {},
   "source": [
    "# Função Filter"
   ]
  },
  {
   "cell_type": "markdown",
   "id": "87e5f203",
   "metadata": {},
   "source": [
    "A função Filte() em Python é uma função que filtra elementos de dados iterável (como uma lista, tupla ou outro objeto iterável) com base em uma determinada condição. A função filter() retorna um objeto filtro, que pode ser convertido em outra estrutura de dados, como uma lista, se necessário."
   ]
  },
  {
   "cell_type": "code",
   "execution_count": 7,
   "id": "3f7e6718",
   "metadata": {},
   "outputs": [],
   "source": [
    "#Criando uma função\n",
    "def verificarPar(num):\n",
    "    if num % 2 == 0:\n",
    "        return True\n",
    "    else:\n",
    "        return False "
   ]
  },
  {
   "cell_type": "code",
   "execution_count": 8,
   "id": "3e00f62a",
   "metadata": {},
   "outputs": [
    {
     "data": {
      "text/plain": [
       "True"
      ]
     },
     "execution_count": 8,
     "metadata": {},
     "output_type": "execute_result"
    }
   ],
   "source": [
    "#Chamando a função e passando um número como parâ,etro. Retornará\n",
    "#Falso se dor ímpar e True se for par.\n",
    "verificarPar(4)"
   ]
  },
  {
   "cell_type": "code",
   "execution_count": 9,
   "id": "67fbf5d0",
   "metadata": {},
   "outputs": [
    {
     "data": {
      "text/plain": [
       "False"
      ]
     },
     "execution_count": 9,
     "metadata": {},
     "output_type": "execute_result"
    }
   ],
   "source": [
    "verificarPar(5)"
   ]
  },
  {
   "cell_type": "code",
   "execution_count": 10,
   "id": "4da2aeca",
   "metadata": {},
   "outputs": [],
   "source": [
    "lista = [0,1,2,3,4,5,6,7,8,9,10,11,12,13,14,15,16,17,18]"
   ]
  },
  {
   "cell_type": "code",
   "execution_count": 11,
   "id": "a895eb41",
   "metadata": {},
   "outputs": [
    {
     "data": {
      "text/plain": [
       "<filter at 0x11310ab14f0>"
      ]
     },
     "execution_count": 11,
     "metadata": {},
     "output_type": "execute_result"
    }
   ],
   "source": [
    "# A função filter() retorna um iterator\n",
    "filter(verificarPar, lista)"
   ]
  },
  {
   "cell_type": "code",
   "execution_count": 12,
   "id": "5eaf6942",
   "metadata": {},
   "outputs": [
    {
     "data": {
      "text/plain": [
       "[0, 2, 4, 6, 8, 10, 12, 14, 16, 18]"
      ]
     },
     "execution_count": 12,
     "metadata": {},
     "output_type": "execute_result"
    }
   ],
   "source": [
    "list(filter(verificarPar, lista))"
   ]
  },
  {
   "cell_type": "code",
   "execution_count": 15,
   "id": "fc7a327a",
   "metadata": {},
   "outputs": [
    {
     "data": {
      "text/plain": [
       "[0, 2, 4, 6, 8, 10, 12, 14, 16, 18]"
      ]
     },
     "execution_count": 15,
     "metadata": {},
     "output_type": "execute_result"
    }
   ],
   "source": [
    "list(filter(lambda x: x%2 == 0, lista))"
   ]
  },
  {
   "cell_type": "code",
   "execution_count": 17,
   "id": "853460db",
   "metadata": {},
   "outputs": [
    {
     "data": {
      "text/plain": [
       "[6, 7, 8, 9, 10, 11, 12, 13, 14, 15, 16, 17, 18]"
      ]
     },
     "execution_count": 17,
     "metadata": {},
     "output_type": "execute_result"
    }
   ],
   "source": [
    "list(filter(lambda num: num > 5, lista))"
   ]
  },
  {
   "cell_type": "markdown",
   "id": "19ca02d8",
   "metadata": {},
   "source": [
    "# Fim"
   ]
  }
 ],
 "metadata": {
  "kernelspec": {
   "display_name": "Python 3 (ipykernel)",
   "language": "python",
   "name": "python3"
  },
  "language_info": {
   "codemirror_mode": {
    "name": "ipython",
    "version": 3
   },
   "file_extension": ".py",
   "mimetype": "text/x-python",
   "name": "python",
   "nbconvert_exporter": "python",
   "pygments_lexer": "ipython3",
   "version": "3.9.13"
  }
 },
 "nbformat": 4,
 "nbformat_minor": 5
}
