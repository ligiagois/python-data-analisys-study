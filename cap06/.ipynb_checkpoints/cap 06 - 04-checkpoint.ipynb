{
 "cells": [
  {
   "cell_type": "markdown",
   "id": "7efe8645",
   "metadata": {},
   "source": [
    "# Função Map"
   ]
  },
  {
   "cell_type": "markdown",
   "id": "6ca27bd3",
   "metadata": {},
   "source": [
    "A função map() em Python é uma função que aplica uma determinada função a cada elemento de uma estrutura de dados iterável (como uma lista, tupla ou outro objeto iterável). A função map() retorna um objeto que pode ser convertido em outra estrutura de dados, como uma lista se necessário."
   ]
  },
  {
   "cell_type": "code",
   "execution_count": 1,
   "id": "a8a2aa3b",
   "metadata": {},
   "outputs": [],
   "source": [
    "#Função Python que retorna um número ao quadrado\n",
    "def potencia(x):\n",
    "    return x**2"
   ]
  },
  {
   "cell_type": "code",
   "execution_count": 2,
   "id": "694884d1",
   "metadata": {},
   "outputs": [],
   "source": [
    "numeros = [1,2,3,4,5]"
   ]
  },
  {
   "cell_type": "code",
   "execution_count": 5,
   "id": "9cf104ed",
   "metadata": {},
   "outputs": [],
   "source": [
    "#A função map aplica a função potencia a cada elemento da lista numeros\n",
    "numeros_ao_quadrado = list(map(potencia, numeros))"
   ]
  },
  {
   "cell_type": "code",
   "execution_count": 6,
   "id": "0eebac36",
   "metadata": {},
   "outputs": [
    {
     "name": "stdout",
     "output_type": "stream",
     "text": [
      "[1, 4, 9, 16, 25]\n"
     ]
    }
   ],
   "source": [
    "print(numeros_ao_quadrado)"
   ]
  },
  {
   "cell_type": "code",
   "execution_count": 7,
   "id": "1155d38c",
   "metadata": {},
   "outputs": [],
   "source": [
    "#Criando duas funções\n",
    "\n",
    "#Função 1 - Recebe uma temperatura como parâmetro e retorna a temperatura em Fahrenheit\n",
    "def fahrenheit(T):\n",
    "    return ((float(9)/5*T+32))\n",
    "\n",
    "#Função 2 - Recebe uma temperatura como parâmetro e retorna a temperatura em Celsius\n",
    "def celsius(T):\n",
    "    return (float(5)/9)*(T-32)"
   ]
  },
  {
   "cell_type": "code",
   "execution_count": 8,
   "id": "6d30de5a",
   "metadata": {},
   "outputs": [],
   "source": [
    "#criando uma lista\n",
    "temperatura = [0,22.5,40,100]"
   ]
  },
  {
   "cell_type": "code",
   "execution_count": 10,
   "id": "4a18a082",
   "metadata": {},
   "outputs": [
    {
     "data": {
      "text/plain": [
       "<map at 0x214e1f7afa0>"
      ]
     },
     "execution_count": 10,
     "metadata": {},
     "output_type": "execute_result"
    }
   ],
   "source": [
    "#Aplicando a função a cada elemento da lista de temperaturas.\n",
    "#Em python 3, a função map() retornar um iterator\n",
    "map(fahrenheit, temperatura)"
   ]
  },
  {
   "cell_type": "code",
   "execution_count": 11,
   "id": "24f76704",
   "metadata": {},
   "outputs": [
    {
     "data": {
      "text/plain": [
       "[32.0, 72.5, 104.0, 212.0]"
      ]
     },
     "execution_count": 11,
     "metadata": {},
     "output_type": "execute_result"
    }
   ],
   "source": [
    "#Função map() retornando a lista de temperaturas convertidas em fahreinheit\n",
    "list(map(fahrenheit, temperatura))"
   ]
  },
  {
   "cell_type": "code",
   "execution_count": 12,
   "id": "3b32ec3c",
   "metadata": {},
   "outputs": [
    {
     "name": "stdout",
     "output_type": "stream",
     "text": [
      "32.0\n",
      "72.5\n",
      "104.0\n",
      "212.0\n"
     ]
    }
   ],
   "source": [
    "#Usando um loop for p imprimir o resultado da função map()\n",
    "for temp in map(fahrenheit, temperatura):\n",
    "    print(temp)"
   ]
  },
  {
   "cell_type": "code",
   "execution_count": 13,
   "id": "65eb0968",
   "metadata": {},
   "outputs": [
    {
     "data": {
      "text/plain": [
       "<map at 0x214e1ae4040>"
      ]
     },
     "execution_count": 13,
     "metadata": {},
     "output_type": "execute_result"
    }
   ],
   "source": [
    "#convertendo p celsius\n",
    "map(celsius,temperatura)"
   ]
  },
  {
   "cell_type": "code",
   "execution_count": 14,
   "id": "1dfcf202",
   "metadata": {},
   "outputs": [
    {
     "data": {
      "text/plain": [
       "[-17.77777777777778, -5.277777777777778, 4.444444444444445, 37.77777777777778]"
      ]
     },
     "execution_count": 14,
     "metadata": {},
     "output_type": "execute_result"
    }
   ],
   "source": [
    "list(map(celsius,temperatura))"
   ]
  },
  {
   "cell_type": "code",
   "execution_count": 17,
   "id": "08993fcd",
   "metadata": {},
   "outputs": [
    {
     "data": {
      "text/plain": [
       "<map at 0x214e1f7a670>"
      ]
     },
     "execution_count": 17,
     "metadata": {},
     "output_type": "execute_result"
    }
   ],
   "source": [
    "#Usando expressão lambda\n",
    "map(lambda x: (5.0/9)*(x-32), temperatura)"
   ]
  },
  {
   "cell_type": "code",
   "execution_count": 18,
   "id": "01cece99",
   "metadata": {},
   "outputs": [
    {
     "data": {
      "text/plain": [
       "[-17.77777777777778, -5.277777777777778, 4.444444444444445, 37.77777777777778]"
      ]
     },
     "execution_count": 18,
     "metadata": {},
     "output_type": "execute_result"
    }
   ],
   "source": [
    "list(map(lambda x: (5.0/9)*(x-32), temperatura))"
   ]
  },
  {
   "cell_type": "code",
   "execution_count": 19,
   "id": "92514d66",
   "metadata": {},
   "outputs": [],
   "source": [
    "#Somando os elementos de 2 listas\n",
    "a=[1,2,3,4]\n",
    "b=[5,6,7,8]"
   ]
  },
  {
   "cell_type": "code",
   "execution_count": 20,
   "id": "3d485ee2",
   "metadata": {},
   "outputs": [
    {
     "data": {
      "text/plain": [
       "[6, 8, 10, 12]"
      ]
     },
     "execution_count": 20,
     "metadata": {},
     "output_type": "execute_result"
    }
   ],
   "source": [
    "list(map(lambda x,y: x+y, a,b))"
   ]
  },
  {
   "cell_type": "code",
   "execution_count": 23,
   "id": "8836d4d5",
   "metadata": {},
   "outputs": [],
   "source": [
    "#somando os elementos de tres listas\n",
    "a=[1,2,3,4]\n",
    "b=[5,6,7,8]\n",
    "c=[4,5,7,8,]"
   ]
  },
  {
   "cell_type": "code",
   "execution_count": 24,
   "id": "e118d66a",
   "metadata": {},
   "outputs": [
    {
     "data": {
      "text/plain": [
       "[10, 13, 17, 20]"
      ]
     },
     "execution_count": 24,
     "metadata": {},
     "output_type": "execute_result"
    }
   ],
   "source": [
    "list(map(lambda x,y,z: x+y+z, a,b,c))"
   ]
  },
  {
   "cell_type": "markdown",
   "id": "1d7e7677",
   "metadata": {},
   "source": [
    "# Fim"
   ]
  },
  {
   "cell_type": "code",
   "execution_count": null,
   "id": "9ed23090",
   "metadata": {},
   "outputs": [],
   "source": []
  }
 ],
 "metadata": {
  "kernelspec": {
   "display_name": "Python 3 (ipykernel)",
   "language": "python",
   "name": "python3"
  },
  "language_info": {
   "codemirror_mode": {
    "name": "ipython",
    "version": 3
   },
   "file_extension": ".py",
   "mimetype": "text/x-python",
   "name": "python",
   "nbconvert_exporter": "python",
   "pygments_lexer": "ipython3",
   "version": "3.9.13"
  }
 },
 "nbformat": 4,
 "nbformat_minor": 5
}
