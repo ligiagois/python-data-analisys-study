{
 "cells": [
  {
   "cell_type": "markdown",
   "id": "6f67f0ef",
   "metadata": {},
   "source": [
    "# Funções\n",
    "#quando uma função dentro de uma classe ela é chamada de método"
   ]
  },
  {
   "cell_type": "code",
   "execution_count": 2,
   "id": "8193d364",
   "metadata": {},
   "outputs": [
    {
     "name": "stdout",
     "output_type": "stream",
     "text": [
      "Hello Word\n"
     ]
    }
   ],
   "source": [
    "print(\"Hello Word\")"
   ]
  },
  {
   "cell_type": "code",
   "execution_count": 3,
   "id": "2a06ddf1",
   "metadata": {},
   "outputs": [],
   "source": [
    "#Definindo uma função\n",
    "def primeiraFunc():\n",
    "    print(\"Hello Word\")"
   ]
  },
  {
   "cell_type": "code",
   "execution_count": 5,
   "id": "26af4669",
   "metadata": {},
   "outputs": [
    {
     "name": "stdout",
     "output_type": "stream",
     "text": [
      "Hello Word\n"
     ]
    }
   ],
   "source": [
    "primeiraFunc()"
   ]
  },
  {
   "cell_type": "code",
   "execution_count": 6,
   "id": "f33e3786",
   "metadata": {},
   "outputs": [],
   "source": [
    "#Definindo uma função\n",
    "def primeiraFun():\n",
    "    nome = 'bob'\n",
    "    print('Hello %s' %(nome))"
   ]
  },
  {
   "cell_type": "code",
   "execution_count": 7,
   "id": "5bc6c9d3",
   "metadata": {},
   "outputs": [
    {
     "name": "stdout",
     "output_type": "stream",
     "text": [
      "Hello bob\n"
     ]
    }
   ],
   "source": [
    "primeiraFun()"
   ]
  },
  {
   "cell_type": "code",
   "execution_count": 11,
   "id": "068c89d3",
   "metadata": {},
   "outputs": [],
   "source": [
    "#Definindo uma função com parametro\n",
    "def segundaFun(nome):\n",
    "    print('Hello %s' %(nome))"
   ]
  },
  {
   "cell_type": "code",
   "execution_count": 12,
   "id": "feec90de",
   "metadata": {},
   "outputs": [
    {
     "name": "stdout",
     "output_type": "stream",
     "text": [
      "Hello Aluno\n"
     ]
    }
   ],
   "source": [
    "segundaFun('Aluno')"
   ]
  },
  {
   "cell_type": "code",
   "execution_count": 13,
   "id": "62eb6173",
   "metadata": {},
   "outputs": [
    {
     "ename": "TypeError",
     "evalue": "segundaFun() missing 1 required positional argument: 'nome'",
     "output_type": "error",
     "traceback": [
      "\u001b[1;31m---------------------------------------------------------------------------\u001b[0m",
      "\u001b[1;31mTypeError\u001b[0m                                 Traceback (most recent call last)",
      "\u001b[1;32m~\\AppData\\Local\\Temp\\ipykernel_90832\\4183391785.py\u001b[0m in \u001b[0;36m<module>\u001b[1;34m\u001b[0m\n\u001b[1;32m----> 1\u001b[1;33m \u001b[0msegundaFun\u001b[0m\u001b[1;33m(\u001b[0m\u001b[1;33m)\u001b[0m\u001b[1;33m\u001b[0m\u001b[1;33m\u001b[0m\u001b[0m\n\u001b[0m",
      "\u001b[1;31mTypeError\u001b[0m: segundaFun() missing 1 required positional argument: 'nome'"
     ]
    }
   ],
   "source": [
    "segundaFun()"
   ]
  },
  {
   "cell_type": "code",
   "execution_count": 16,
   "id": "0b5d5a2d",
   "metadata": {},
   "outputs": [],
   "source": [
    "#Função para imprimir números\n",
    "def imprimirNum():\n",
    "    \n",
    "    #LOOP\n",
    "    for i in range(0,5):\n",
    "        print(\"Numero \" + str(i))"
   ]
  },
  {
   "cell_type": "code",
   "execution_count": 17,
   "id": "32ad1f5a",
   "metadata": {},
   "outputs": [
    {
     "name": "stdout",
     "output_type": "stream",
     "text": [
      "Numero 0\n",
      "Numero 1\n",
      "Numero 2\n",
      "Numero 3\n",
      "Numero 4\n"
     ]
    }
   ],
   "source": [
    "imprimirNum()"
   ]
  },
  {
   "cell_type": "code",
   "execution_count": 18,
   "id": "d4d7e3db",
   "metadata": {},
   "outputs": [],
   "source": [
    "#Função para somar números\n",
    "def addNum(fistnum, secondnum):\n",
    "    print(\"primeiro numero: \" + str(fistnum) )\n",
    "    print(\"segundo número: \" + str(secondnum))\n",
    "    print(\"Soma: \", fistnum + secondnum)"
   ]
  },
  {
   "cell_type": "code",
   "execution_count": 19,
   "id": "0571d1e4",
   "metadata": {},
   "outputs": [
    {
     "name": "stdout",
     "output_type": "stream",
     "text": [
      "primeiro numero: 2\n",
      "segundo número: 3\n",
      "Soma:  5\n"
     ]
    }
   ],
   "source": [
    "addNum(2,3)"
   ]
  },
  {
   "cell_type": "code",
   "execution_count": 20,
   "id": "17cb62be",
   "metadata": {},
   "outputs": [
    {
     "name": "stdout",
     "output_type": "stream",
     "text": [
      "primeiro numero: 4\n",
      "segundo número: 7\n",
      "Soma:  11\n"
     ]
    }
   ],
   "source": [
    "#chamando a função e passando parâmetros\n",
    "addNum(4,7)"
   ]
  },
  {
   "cell_type": "code",
   "execution_count": 21,
   "id": "f0940175",
   "metadata": {},
   "outputs": [],
   "source": [
    "#Funções com número variável de argumentos\n",
    "#*vartuple: significa que pode passar como argumento uma tupla mas sem qnt definidas\n",
    "def printVarInfo(arg1, *vartuple):\n",
    "    #imprimindo o valor do primeiro argumento\n",
    "    print(\"O parâmetro passado foi: \", arg1)\n",
    "    \n",
    "    #imprimindo o valor do segundo argumento\n",
    "    for item in vartuple:\n",
    "        print(\"O parâmetro passado foi: \", item)\n",
    "    return"
   ]
  },
  {
   "cell_type": "code",
   "execution_count": 22,
   "id": "b3a497a9",
   "metadata": {},
   "outputs": [
    {
     "name": "stdout",
     "output_type": "stream",
     "text": [
      "O parâmetro passado foi:  10\n"
     ]
    }
   ],
   "source": [
    "#exemplo so chamando um numero, não roda o loop porque não chamou a tupla\n",
    "printVarInfo(10)"
   ]
  },
  {
   "cell_type": "code",
   "execution_count": 23,
   "id": "b4fdfca8",
   "metadata": {},
   "outputs": [
    {
     "name": "stdout",
     "output_type": "stream",
     "text": [
      "O parâmetro passado foi:  chocolate\n",
      "O parâmetro passado foi:  morango\n"
     ]
    }
   ],
   "source": [
    "#chamando uma tupla\n",
    "printVarInfo('chocolate', 'morango')"
   ]
  },
  {
   "cell_type": "code",
   "execution_count": 24,
   "id": "572f8625",
   "metadata": {},
   "outputs": [
    {
     "name": "stdout",
     "output_type": "stream",
     "text": [
      "O parâmetro passado foi:  data\n",
      "O parâmetro passado foi:  science\n",
      "O parâmetro passado foi:  academy\n"
     ]
    }
   ],
   "source": [
    "printVarInfo('data', 'science', 'academy')"
   ]
  },
  {
   "cell_type": "markdown",
   "id": "d433b001",
   "metadata": {},
   "source": [
    "# Escopo de variável - local e global "
   ]
  },
  {
   "cell_type": "code",
   "execution_count": 30,
   "id": "55411013",
   "metadata": {},
   "outputs": [],
   "source": [
    "#variável global\n",
    "var_global = 10 #está é uma variavel global\n",
    "\n",
    "#função\n",
    "def multiplica_numeros(num1,num2):\n",
    "    var_global = num1 * num2 #está é uma variável local\n",
    "    print(var_global)"
   ]
  },
  {
   "cell_type": "code",
   "execution_count": 31,
   "id": "ed950858",
   "metadata": {},
   "outputs": [
    {
     "name": "stdout",
     "output_type": "stream",
     "text": [
      "125\n"
     ]
    }
   ],
   "source": [
    "multiplica_numeros(5,25)"
   ]
  },
  {
   "cell_type": "code",
   "execution_count": 32,
   "id": "aaf955d4",
   "metadata": {},
   "outputs": [
    {
     "name": "stdout",
     "output_type": "stream",
     "text": [
      "10\n"
     ]
    }
   ],
   "source": [
    "print(var_global)"
   ]
  },
  {
   "cell_type": "code",
   "execution_count": 33,
   "id": "908d9183",
   "metadata": {},
   "outputs": [],
   "source": [
    "#variável global\n",
    "var_global = 10 #está é a variável global\n",
    "\n",
    "#função\n",
    "def multiplica_numeros(num1,num2):\n",
    "    var_local = num1*num2 #está é uma variável local\n",
    "    print(var_local)"
   ]
  },
  {
   "cell_type": "code",
   "execution_count": 34,
   "id": "cb88d1dd",
   "metadata": {},
   "outputs": [
    {
     "name": "stdout",
     "output_type": "stream",
     "text": [
      "6\n"
     ]
    }
   ],
   "source": [
    "multiplica_numeros(2,3)"
   ]
  },
  {
   "cell_type": "code",
   "execution_count": 35,
   "id": "1c99bb12",
   "metadata": {},
   "outputs": [
    {
     "ename": "NameError",
     "evalue": "name 'var_local' is not defined",
     "output_type": "error",
     "traceback": [
      "\u001b[1;31m---------------------------------------------------------------------------\u001b[0m",
      "\u001b[1;31mNameError\u001b[0m                                 Traceback (most recent call last)",
      "\u001b[1;32m~\\AppData\\Local\\Temp\\ipykernel_90832\\1392635205.py\u001b[0m in \u001b[0;36m<module>\u001b[1;34m\u001b[0m\n\u001b[1;32m----> 1\u001b[1;33m \u001b[0mprint\u001b[0m\u001b[1;33m(\u001b[0m\u001b[0mvar_local\u001b[0m\u001b[1;33m)\u001b[0m\u001b[1;33m\u001b[0m\u001b[1;33m\u001b[0m\u001b[0m\n\u001b[0m",
      "\u001b[1;31mNameError\u001b[0m: name 'var_local' is not defined"
     ]
    }
   ],
   "source": [
    "print(var_local)\n",
    "#dá erro pq ela nao foi definida, ela só funciona dentro da função"
   ]
  },
  {
   "cell_type": "code",
   "execution_count": 36,
   "id": "6a99410e",
   "metadata": {},
   "outputs": [
    {
     "name": "stdout",
     "output_type": "stream",
     "text": [
      "10\n"
     ]
    }
   ],
   "source": [
    "print(var_global)"
   ]
  },
  {
   "cell_type": "code",
   "execution_count": 37,
   "id": "7af01ad3",
   "metadata": {},
   "outputs": [],
   "source": [
    "#não é recomendado usar o mesmo nome de variável local e global pois pode ocasionar erros."
   ]
  },
  {
   "cell_type": "markdown",
   "id": "6d27c7ee",
   "metadata": {},
   "source": [
    "# Funções Built-in\n",
    "funções já prontas em python"
   ]
  },
  {
   "cell_type": "code",
   "execution_count": 39,
   "id": "74019fdd",
   "metadata": {},
   "outputs": [
    {
     "data": {
      "text/plain": [
       "56"
      ]
     },
     "execution_count": 39,
     "metadata": {},
     "output_type": "execute_result"
    }
   ],
   "source": [
    "#função para valor absoluto\n",
    "abs(-56)"
   ]
  },
  {
   "cell_type": "code",
   "execution_count": 40,
   "id": "aac0e007",
   "metadata": {},
   "outputs": [
    {
     "data": {
      "text/plain": [
       "False"
      ]
     },
     "execution_count": 40,
     "metadata": {},
     "output_type": "execute_result"
    }
   ],
   "source": [
    "#função para retornar número booleano\n",
    "bool(0)"
   ]
  },
  {
   "cell_type": "code",
   "execution_count": 41,
   "id": "85180cc1",
   "metadata": {},
   "outputs": [
    {
     "data": {
      "text/plain": [
       "True"
      ]
     },
     "execution_count": 41,
     "metadata": {},
     "output_type": "execute_result"
    }
   ],
   "source": [
    "bool(1)"
   ]
  },
  {
   "cell_type": "code",
   "execution_count": 42,
   "id": "7a05a9bd",
   "metadata": {},
   "outputs": [
    {
     "data": {
      "text/plain": [
       "4"
      ]
     },
     "execution_count": 42,
     "metadata": {},
     "output_type": "execute_result"
    }
   ],
   "source": [
    "#função para retornar um numero inteiro de numero\n",
    "int(4.6)"
   ]
  },
  {
   "cell_type": "code",
   "execution_count": 43,
   "id": "4c05b3d8",
   "metadata": {},
   "outputs": [
    {
     "data": {
      "text/plain": [
       "'5'"
      ]
     },
     "execution_count": 43,
     "metadata": {},
     "output_type": "execute_result"
    }
   ],
   "source": [
    "#função para converter par string\n",
    "str(5)"
   ]
  },
  {
   "cell_type": "code",
   "execution_count": 1,
   "id": "5c46241e",
   "metadata": {},
   "outputs": [
    {
     "data": {
      "text/plain": [
       "6.0"
      ]
     },
     "execution_count": 1,
     "metadata": {},
     "output_type": "execute_result"
    }
   ],
   "source": [
    "#função para converter para float\n",
    "float(6)"
   ]
  },
  {
   "cell_type": "code",
   "execution_count": 2,
   "id": "7f2f70b4",
   "metadata": {},
   "outputs": [
    {
     "name": "stdout",
     "output_type": "stream",
     "text": [
      "Digite a sua idade: 14\n",
      "voce pode acessar redes sociais sem supervisão\n"
     ]
    }
   ],
   "source": [
    "#usando a função int para converter o valor digitado\n",
    "#tem que colocar o int antes do input porque vai recever um numero inteiro, se não fizer isso da erro\n",
    "idade = int(input(\"Digite a sua idade: \"))\n",
    "if idade > 13:\n",
    "    print(\"voce pode acessar redes sociais sem supervisão\")\n",
    "else:\n",
    "    print(\"você não pode acessar sem supervisão\")"
   ]
  },
  {
   "cell_type": "code",
   "execution_count": 3,
   "id": "0e2ec4fb",
   "metadata": {},
   "outputs": [
    {
     "data": {
      "text/plain": [
       "5"
      ]
     },
     "execution_count": 3,
     "metadata": {},
     "output_type": "execute_result"
    }
   ],
   "source": [
    "#converter string em numero inteiro\n",
    "int(\"5\")"
   ]
  },
  {
   "cell_type": "code",
   "execution_count": 4,
   "id": "dacfe4ab",
   "metadata": {},
   "outputs": [
    {
     "data": {
      "text/plain": [
       "25.36"
      ]
     },
     "execution_count": 4,
     "metadata": {},
     "output_type": "execute_result"
    }
   ],
   "source": [
    "#converter string em numero float\n",
    "float(\"25.36\")"
   ]
  },
  {
   "cell_type": "code",
   "execution_count": 5,
   "id": "d1d6d391",
   "metadata": {},
   "outputs": [
    {
     "data": {
      "text/plain": [
       "'14'"
      ]
     },
     "execution_count": 5,
     "metadata": {},
     "output_type": "execute_result"
    }
   ],
   "source": [
    "str(14)"
   ]
  },
  {
   "cell_type": "code",
   "execution_count": 7,
   "id": "323ddc9b",
   "metadata": {},
   "outputs": [
    {
     "data": {
      "text/plain": [
       "4"
      ]
     },
     "execution_count": 7,
     "metadata": {},
     "output_type": "execute_result"
    }
   ],
   "source": [
    "#função para saber o comprimento da lista\n",
    "len([23,34,45,46])"
   ]
  },
  {
   "cell_type": "code",
   "execution_count": 8,
   "id": "6f0f87d4",
   "metadata": {},
   "outputs": [],
   "source": [
    "array = [1,2,3]"
   ]
  },
  {
   "cell_type": "code",
   "execution_count": 9,
   "id": "0694a78f",
   "metadata": {},
   "outputs": [
    {
     "data": {
      "text/plain": [
       "3"
      ]
     },
     "execution_count": 9,
     "metadata": {},
     "output_type": "execute_result"
    }
   ],
   "source": [
    "#função para saber o valor maximo do arrey\n",
    "max(array)"
   ]
  },
  {
   "cell_type": "code",
   "execution_count": 10,
   "id": "f3421dec",
   "metadata": {},
   "outputs": [
    {
     "data": {
      "text/plain": [
       "3"
      ]
     },
     "execution_count": 10,
     "metadata": {},
     "output_type": "execute_result"
    }
   ],
   "source": [
    "#função para saber o valor minimo do arrey\n",
    "max(array)"
   ]
  },
  {
   "cell_type": "code",
   "execution_count": 11,
   "id": "5ae37d42",
   "metadata": {},
   "outputs": [],
   "source": [
    "list1 = [16,23,44,75]"
   ]
  },
  {
   "cell_type": "code",
   "execution_count": 12,
   "id": "85effef4",
   "metadata": {},
   "outputs": [
    {
     "data": {
      "text/plain": [
       "158"
      ]
     },
     "execution_count": 12,
     "metadata": {},
     "output_type": "execute_result"
    }
   ],
   "source": [
    "#função para somar os elementos da lista\n",
    "sum(list1)"
   ]
  },
  {
   "cell_type": "markdown",
   "id": "dbb8bced",
   "metadata": {},
   "source": [
    "# Criando Funções Usando Outras Funções"
   ]
  },
  {
   "cell_type": "code",
   "execution_count": 13,
   "id": "48437ab3",
   "metadata": {},
   "outputs": [],
   "source": [
    "import math\n",
    "\n",
    "#verificando se um numero é primo\n",
    "def numPrimo(num):\n",
    "    if (num % 2) == 0 and num >2:\n",
    "        return \"Este numero não é primo\"\n",
    "    for i in range(3, int(math.sqrt(num)) +1,2):\n",
    "        if (num % i) == 0:\n",
    "            return \"Este número não é primo\"\n",
    "    return \"Este número é primo\"\n",
    "\n",
    "#math.sqrt(num): função para calcular raiz quadrada\n",
    "        "
   ]
  },
  {
   "cell_type": "code",
   "execution_count": 14,
   "id": "94f6dea7",
   "metadata": {},
   "outputs": [
    {
     "data": {
      "text/plain": [
       "'Este número é primo'"
      ]
     },
     "execution_count": 14,
     "metadata": {},
     "output_type": "execute_result"
    }
   ],
   "source": [
    "numPrimo(541)"
   ]
  },
  {
   "cell_type": "code",
   "execution_count": 15,
   "id": "d569d7d5",
   "metadata": {},
   "outputs": [
    {
     "data": {
      "text/plain": [
       "'Este número é primo'"
      ]
     },
     "execution_count": 15,
     "metadata": {},
     "output_type": "execute_result"
    }
   ],
   "source": [
    "numPrimo(2)"
   ]
  },
  {
   "cell_type": "code",
   "execution_count": 16,
   "id": "94f69ef6",
   "metadata": {},
   "outputs": [],
   "source": [
    "caixa_baixa = \"Este texto deveria estar todo em lowerCase\""
   ]
  },
  {
   "cell_type": "code",
   "execution_count": 17,
   "id": "508876e4",
   "metadata": {},
   "outputs": [],
   "source": [
    "def lowercase(text):\n",
    "    return text.lower()"
   ]
  },
  {
   "cell_type": "markdown",
   "id": "280324da",
   "metadata": {},
   "source": [
    "# Fazendo Split dos Dados"
   ]
  },
  {
   "cell_type": "code",
   "execution_count": 19,
   "id": "dbc012be",
   "metadata": {},
   "outputs": [],
   "source": [
    "#Fazendo split dos dados\n",
    "def split_string_palavras(text):\n",
    "    return text.split(\" \")"
   ]
  },
  {
   "cell_type": "code",
   "execution_count": 20,
   "id": "e36a7c3d",
   "metadata": {},
   "outputs": [],
   "source": [
    "texto = \"Esta função será bastante útil para separar grandes volumes de dados\""
   ]
  },
  {
   "cell_type": "code",
   "execution_count": 22,
   "id": "2ee9b38e",
   "metadata": {},
   "outputs": [
    {
     "name": "stdout",
     "output_type": "stream",
     "text": [
      "['Esta', 'função', 'será', 'bastante', 'útil', 'para', 'separar', 'grandes', 'volumes', 'de', 'dados']\n"
     ]
    }
   ],
   "source": [
    "#Isso divide a string em uma lista de palavras\n",
    "print(split_string_palavras(texto))"
   ]
  },
  {
   "cell_type": "code",
   "execution_count": 23,
   "id": "e6be1ed2",
   "metadata": {},
   "outputs": [],
   "source": [
    "#Podemos atribuir o output de uma função para uma variável\n",
    "token = split_string_palavras(texto)"
   ]
  },
  {
   "cell_type": "code",
   "execution_count": 24,
   "id": "32c05375",
   "metadata": {},
   "outputs": [
    {
     "data": {
      "text/plain": [
       "['Esta',\n",
       " 'função',\n",
       " 'será',\n",
       " 'bastante',\n",
       " 'útil',\n",
       " 'para',\n",
       " 'separar',\n",
       " 'grandes',\n",
       " 'volumes',\n",
       " 'de',\n",
       " 'dados']"
      ]
     },
     "execution_count": 24,
     "metadata": {},
     "output_type": "execute_result"
    }
   ],
   "source": [
    "token"
   ]
  },
  {
   "cell_type": "code",
   "execution_count": 25,
   "id": "9abc4fef",
   "metadata": {},
   "outputs": [],
   "source": [
    "#Fazendo split dos dados\n",
    "def split_string_letras(text):\n",
    "    texto = text.upper()\n",
    "    for letra in texto:\n",
    "        print(letra)\n"
   ]
  },
  {
   "cell_type": "code",
   "execution_count": 26,
   "id": "99740bc5",
   "metadata": {},
   "outputs": [
    {
     "name": "stdout",
     "output_type": "stream",
     "text": [
      "E\n",
      "S\n",
      "T\n",
      "A\n",
      " \n",
      "F\n",
      "U\n",
      "N\n",
      "Ç\n",
      "Ã\n",
      "O\n",
      " \n",
      "S\n",
      "E\n",
      "R\n",
      "Á\n",
      " \n",
      "B\n",
      "A\n",
      "S\n",
      "T\n",
      "A\n",
      "N\n",
      "T\n",
      "E\n",
      " \n",
      "Ú\n",
      "T\n",
      "I\n",
      "L\n",
      " \n",
      "P\n",
      "A\n",
      "R\n",
      "A\n",
      " \n",
      "S\n",
      "E\n",
      "P\n",
      "A\n",
      "R\n",
      "A\n",
      "R\n",
      " \n",
      "G\n",
      "R\n",
      "A\n",
      "N\n",
      "D\n",
      "E\n",
      "S\n",
      " \n",
      "V\n",
      "O\n",
      "L\n",
      "U\n",
      "M\n",
      "E\n",
      "S\n",
      " \n",
      "D\n",
      "E\n",
      " \n",
      "D\n",
      "A\n",
      "D\n",
      "O\n",
      "S\n"
     ]
    }
   ],
   "source": [
    "split_string_letras(texto)"
   ]
  },
  {
   "cell_type": "markdown",
   "id": "d73ebdbc",
   "metadata": {},
   "source": [
    "# Fim"
   ]
  },
  {
   "cell_type": "code",
   "execution_count": null,
   "id": "d4c4c9c1",
   "metadata": {},
   "outputs": [],
   "source": []
  }
 ],
 "metadata": {
  "kernelspec": {
   "display_name": "Python 3 (ipykernel)",
   "language": "python",
   "name": "python3"
  },
  "language_info": {
   "codemirror_mode": {
    "name": "ipython",
    "version": 3
   },
   "file_extension": ".py",
   "mimetype": "text/x-python",
   "name": "python",
   "nbconvert_exporter": "python",
   "pygments_lexer": "ipython3",
   "version": "3.9.13"
  }
 },
 "nbformat": 4,
 "nbformat_minor": 5
}
