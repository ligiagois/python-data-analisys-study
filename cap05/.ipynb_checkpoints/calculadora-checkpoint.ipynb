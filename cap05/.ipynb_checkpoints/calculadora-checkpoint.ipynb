{
 "cells": [
  {
   "cell_type": "code",
   "execution_count": null,
   "id": "6e8cbb3c",
   "metadata": {},
   "outputs": [],
   "source": [
    "resultado = 0\n",
    "operacao = int(input(\"Selecione o número da operação desejada \\n 1 - Soma \\n 2 - Subtração \\n 3 - Multiplicação \\n 4 - Divisão \\n\")) \n",
    "\n",
    "if operacao == 1:\n",
    "        num1 = int(input(\"Digite o primeiro numero \"))\n",
    "        num2 = int(input(\"Digite o segundo numero \"))\n",
    "        resultado = num1+num2\n",
    "elif operacao == 2:\n",
    "        num1 = int(input(\"Digite o primeiro numero \"))\n",
    "        num2 = int(input(\"Digite o segundo numero \"))\n",
    "        reultado = num1-num2\n",
    "elif operacao ==3 :\n",
    "        num1 = int(input(\"Digite o primeiro numero \"))\n",
    "        num2 = int(input(\"Digite o segundo numero \"))\n",
    "        resultado = num1*num2\n",
    "elif operacao == 4:\n",
    "        num1 = int(input(\"Digite o primeiro numero \"))\n",
    "        num2 = int(input(\"Digite o segundo numero \"))\n",
    "        resultado = num1//num2\n",
    "else:\n",
    "        resultado = \"numero invalido\"\n",
    "\n",
    "print(resultado)        "
   ]
  },
  {
   "cell_type": "code",
   "execution_count": null,
   "id": "89bed684",
   "metadata": {},
   "outputs": [],
   "source": []
  },
  {
   "cell_type": "code",
   "execution_count": null,
   "id": "c24aa474",
   "metadata": {},
   "outputs": [],
   "source": []
  }
 ],
 "metadata": {
  "kernelspec": {
   "display_name": "Python 3 (ipykernel)",
   "language": "python",
   "name": "python3"
  },
  "language_info": {
   "codemirror_mode": {
    "name": "ipython",
    "version": 3
   },
   "file_extension": ".py",
   "mimetype": "text/x-python",
   "name": "python",
   "nbconvert_exporter": "python",
   "pygments_lexer": "ipython3",
   "version": "3.9.13"
  }
 },
 "nbformat": 4,
 "nbformat_minor": 5
}
