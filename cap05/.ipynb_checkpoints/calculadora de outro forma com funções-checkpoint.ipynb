{
 "cells": [
  {
   "cell_type": "code",
   "execution_count": 2,
   "id": "92344a59",
   "metadata": {},
   "outputs": [
    {
     "name": "stdout",
     "output_type": "stream",
     "text": [
      "######################Calculadora Python#######################\n",
      "Selecione o número da operação desejada\n",
      "1- Soma\n",
      "2- Subtração\n",
      "3- Multiplicação\n",
      "4 - Divisão\n",
      "Digite a opção desejada5\n",
      "Digite o primeiro número 5\n",
      "Digite o segundo número 5\n",
      "opção inválida\n"
     ]
    }
   ],
   "source": [
    "print(\"######################Calculadora Python#######################\")\n",
    "\n",
    "def soma_num(x,y):\n",
    "    return x+y\n",
    "def subt_num(x,y):\n",
    "    return x-y\n",
    "def mult_num(x,y):\n",
    "    return x*y\n",
    "def div_num(x,y):\n",
    "    return x//y\n",
    "\n",
    "print(\"Selecione o número da operação desejada\")\n",
    "print(\"1- Soma\")\n",
    "print(\"2- Subtração\")\n",
    "print(\"3- Multiplicação\")\n",
    "print(\"4 - Divisão\")\n",
    "\n",
    "escolha = int(input(\"Digite a opção desejada \"))\n",
    "\n",
    "num1= int(input(\"Digite o primeiro número \"))\n",
    "num2 = int(input(\"Digite o segundo número \"))\n",
    "\n",
    "if escolha == 1:\n",
    "    print(\"\\n\")\n",
    "    print(num1, \" + \" ,num2, \"=\", soma_num(num1,num2))\n",
    "    print(\"\\n\")\n",
    "elif escolha == 2:\n",
    "    print(\"\\n\")\n",
    "    print(num1, \" - \", num2, \"=\", subt_num(num1,num2))\n",
    "    print(\"\\n\")\n",
    "elif escolha == 3:\n",
    "    print(\"\\n\")\n",
    "    print(num1, \" x \", num2, \"=\", mult_num(num1,num2))\n",
    "    print(\"\\n\")\n",
    "elif escolha == 4:\n",
    "    print(\"\\n\")\n",
    "    print(num1, \" / \", num2, \"=\", div_num(num1,num2))\n",
    "    print(\"\\n\")\n",
    "else:\n",
    "    print(\"opção inválida\")"
   ]
  },
  {
   "cell_type": "code",
   "execution_count": null,
   "id": "2c61b29b",
   "metadata": {},
   "outputs": [],
   "source": []
  }
 ],
 "metadata": {
  "kernelspec": {
   "display_name": "Python 3 (ipykernel)",
   "language": "python",
   "name": "python3"
  },
  "language_info": {
   "codemirror_mode": {
    "name": "ipython",
    "version": 3
   },
   "file_extension": ".py",
   "mimetype": "text/x-python",
   "name": "python",
   "nbconvert_exporter": "python",
   "pygments_lexer": "ipython3",
   "version": "3.9.13"
  }
 },
 "nbformat": 4,
 "nbformat_minor": 5
}
