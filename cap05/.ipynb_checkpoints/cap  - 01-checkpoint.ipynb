{
 "cells": [
  {
   "cell_type": "markdown",
   "id": "ffddbbfc",
   "metadata": {},
   "source": [
    "# Condicional If"
   ]
  },
  {
   "cell_type": "code",
   "execution_count": 1,
   "id": "5c6b13f7",
   "metadata": {},
   "outputs": [
    {
     "name": "stdout",
     "output_type": "stream",
     "text": [
      "A sentença é verdadeira\n"
     ]
    }
   ],
   "source": [
    "#Condicional if (se)\n",
    "if 5 > 2:\n",
    "    print(\"A sentença é verdadeira\")"
   ]
  },
  {
   "cell_type": "code",
   "execution_count": 5,
   "id": "47db59dc",
   "metadata": {},
   "outputs": [
    {
     "name": "stdout",
     "output_type": "stream",
     "text": [
      "A sentença é falsa\n"
     ]
    }
   ],
   "source": [
    "#condicional If...Else\n",
    "if 5 < 2 :\n",
    "    print(\"A sentença é verdadeira\")\n",
    "else:\n",
    "    print(\"A sentença é falsa\")"
   ]
  },
  {
   "cell_type": "code",
   "execution_count": 3,
   "id": "f32cb208",
   "metadata": {},
   "outputs": [
    {
     "name": "stdout",
     "output_type": "stream",
     "text": [
      "Hoje vai chover\n"
     ]
    }
   ],
   "source": [
    "#condicional If...Else com variável\n",
    "dia= \"terça\"\n",
    "if dia == \"segunda\":\n",
    "    print(\"Hoje fará sol\")\n",
    "else:\n",
    "    print(\"Hoje vai chover\")"
   ]
  },
  {
   "cell_type": "code",
   "execution_count": 4,
   "id": "c0ec7d70",
   "metadata": {},
   "outputs": [
    {
     "name": "stdout",
     "output_type": "stream",
     "text": [
      "Hoje vai chover\n"
     ]
    }
   ],
   "source": [
    "#podemos usar o operador elif para validar mais de uma condição\n",
    "if dia == \"segunda\":\n",
    "    print(\"Hoje fará sol\")\n",
    "elif dia == \"terça\":\n",
    "    print(\"Hoje vai chover\")\n",
    "else: \n",
    "    print(\"Sem previsão do tempo para o dia selecionado\")"
   ]
  },
  {
   "cell_type": "markdown",
   "id": "f9b5538c",
   "metadata": {},
   "source": [
    "# Operadores Relacionais"
   ]
  },
  {
   "cell_type": "code",
   "execution_count": 6,
   "id": "ee090a22",
   "metadata": {},
   "outputs": [
    {
     "data": {
      "text/plain": [
       "True"
      ]
     },
     "execution_count": 6,
     "metadata": {},
     "output_type": "execute_result"
    }
   ],
   "source": [
    "6 > 3"
   ]
  },
  {
   "cell_type": "code",
   "execution_count": 7,
   "id": "00f45994",
   "metadata": {},
   "outputs": [
    {
     "data": {
      "text/plain": [
       "False"
      ]
     },
     "execution_count": 7,
     "metadata": {},
     "output_type": "execute_result"
    }
   ],
   "source": [
    "3 > 7"
   ]
  },
  {
   "cell_type": "code",
   "execution_count": 8,
   "id": "f60e0579",
   "metadata": {},
   "outputs": [
    {
     "data": {
      "text/plain": [
       "True"
      ]
     },
     "execution_count": 8,
     "metadata": {},
     "output_type": "execute_result"
    }
   ],
   "source": [
    "4 >= 4"
   ]
  },
  {
   "cell_type": "code",
   "execution_count": 12,
   "id": "69e7ce49",
   "metadata": {},
   "outputs": [
    {
     "name": "stdout",
     "output_type": "stream",
     "text": [
      "Testando Python\n"
     ]
    }
   ],
   "source": [
    "if 5 == 5:\n",
    "    print(\"Testando Python\")"
   ]
  },
  {
   "cell_type": "code",
   "execution_count": 13,
   "id": "a8427549",
   "metadata": {},
   "outputs": [
    {
     "name": "stdout",
     "output_type": "stream",
     "text": [
      "Parece que Python funciona\n"
     ]
    }
   ],
   "source": [
    "if True:\n",
    "    print(\"Parece que Python funciona\")"
   ]
  },
  {
   "cell_type": "markdown",
   "id": "e7ab7886",
   "metadata": {},
   "source": [
    "# Condicionais Aninhados"
   ]
  },
  {
   "cell_type": "code",
   "execution_count": 14,
   "id": "379e250d",
   "metadata": {},
   "outputs": [
    {
     "name": "stdout",
     "output_type": "stream",
     "text": [
      "Você pode dirigir\n"
     ]
    }
   ],
   "source": [
    "idade = 18\n",
    "if idade > 17:\n",
    "    print(\"Você pode dirigir\")"
   ]
  },
  {
   "cell_type": "code",
   "execution_count": 16,
   "id": "cf40749a",
   "metadata": {},
   "outputs": [
    {
     "name": "stdout",
     "output_type": "stream",
     "text": [
      "ok Bob, vocêe esta autorizado a entrar\n"
     ]
    }
   ],
   "source": [
    "Nome = \"bob\"\n",
    "if idade > 13:\n",
    "    if Nome == \"bob\":\n",
    "        print(\"ok Bob, vocêe esta autorizado a entrar\")\n",
    "    else:\n",
    "            print(\"Desculpa, mas você não pode entrar\")"
   ]
  },
  {
   "cell_type": "code",
   "execution_count": 18,
   "id": "8fccb942",
   "metadata": {},
   "outputs": [
    {
     "name": "stdout",
     "output_type": "stream",
     "text": [
      "ok Bob, você está autorizado a entrar\n"
     ]
    }
   ],
   "source": [
    "idade = 13\n",
    "nome = \"bob\"\n",
    "if idade >=13 and nome == \"bob\":\n",
    "    print(\"ok Bob, você está autorizado a entrar\")"
   ]
  },
  {
   "cell_type": "code",
   "execution_count": 19,
   "id": "5b483c0d",
   "metadata": {},
   "outputs": [
    {
     "name": "stdout",
     "output_type": "stream",
     "text": [
      "ok Bob, você está autorizado a entrar\n"
     ]
    }
   ],
   "source": [
    "#tbm pode colocar em parenteses, mas não é obrigatório\n",
    "idade = 13\n",
    "nome = \"bob\"\n",
    "if (idade >=13) or (nome == \"bob\"):\n",
    "    print(\"ok Bob, você está autorizado a entrar\")"
   ]
  },
  {
   "cell_type": "markdown",
   "id": "2c104b8b",
   "metadata": {},
   "source": [
    "# Operadores Lógicos"
   ]
  },
  {
   "cell_type": "code",
   "execution_count": 20,
   "id": "886ec4dc",
   "metadata": {},
   "outputs": [],
   "source": [
    "#Os operadores lógicos funcionam assim:\n",
    " # Operador and - retorna True se ambas as declarações forem verdadeiras\n",
    " # Operador or - retorna True se uma das declarações for verdadeira\n",
    " #Operador not - Inverte o resultado, retorna False se o resultado for True"
   ]
  },
  {
   "cell_type": "code",
   "execution_count": 21,
   "id": "6baa9e66",
   "metadata": {},
   "outputs": [
    {
     "name": "stdout",
     "output_type": "stream",
     "text": [
      "Isso está sendo impresso porque as duas condições são verdadeiras\n"
     ]
    }
   ],
   "source": [
    "#Operador and\n",
    "numero = 4\n",
    "if (numero > 2) and (numero %2 ==0):\n",
    "    print(\"Isso está sendo impresso porque as duas condições são verdadeiras\")"
   ]
  },
  {
   "cell_type": "code",
   "execution_count": 22,
   "id": "e9925d1b",
   "metadata": {},
   "outputs": [
    {
     "name": "stdout",
     "output_type": "stream",
     "text": [
      "isso está sendo impresso porque uma das condições é falsa\n"
     ]
    }
   ],
   "source": [
    "#Operador and\n",
    "numero = 4\n",
    "if (numero > 5) and (numero %2 ==0):\n",
    "    print(\"Isso está sendo impresso porque as duas condições são verdadeiras\")\n",
    "else:\n",
    "    print(\"isso está sendo impresso porque uma das condições é falsa\")"
   ]
  },
  {
   "cell_type": "code",
   "execution_count": 24,
   "id": "a0990175",
   "metadata": {},
   "outputs": [
    {
     "name": "stdout",
     "output_type": "stream",
     "text": [
      "Isso está sendo impresso porque uma das condições é verdadeira\n"
     ]
    }
   ],
   "source": [
    "#operador or\n",
    "numero =4 \n",
    "if (numero >5) or (numero %2==0):\n",
    "    print(\"Isso está sendo impresso porque uma das condições é verdadeira\")"
   ]
  },
  {
   "cell_type": "code",
   "execution_count": 25,
   "id": "efb5de7f",
   "metadata": {},
   "outputs": [
    {
     "name": "stdout",
     "output_type": "stream",
     "text": [
      "Isso esta sendo impresso porque as duas condições são verdadeiras\n"
     ]
    }
   ],
   "source": [
    "#operador not\n",
    "numerp =4 \n",
    "if not(numero>5) and (numero %2 == 0):\n",
    "    print(\"Isso esta sendo impresso porque as duas condições são verdadeiras\")\n",
    "else:\n",
    "    print(\"Isso esta sendo impresso porque uma das condições é falsa\")"
   ]
  },
  {
   "cell_type": "code",
   "execution_count": 26,
   "id": "c8f0395e",
   "metadata": {},
   "outputs": [
    {
     "name": "stdout",
     "output_type": "stream",
     "text": [
      "Isso esta sendo impresso porque as duas primeiras condições são verdadeiras e a terceira é verdadeira\n"
     ]
    }
   ],
   "source": [
    "#Operador and, or e not\n",
    "numero = 4\n",
    "if (not(numero >5)) and (numero %2 ==0) or (numero ==4):\n",
    "    print(\"Isso esta sendo impresso porque as duas primeiras condições são verdadeiras e a terceira é verdadeira\")"
   ]
  },
  {
   "cell_type": "code",
   "execution_count": 27,
   "id": "0456718d",
   "metadata": {},
   "outputs": [
    {
     "name": "stdout",
     "output_type": "stream",
     "text": [
      "você foi aprovado\n"
     ]
    }
   ],
   "source": [
    "#Exemplo com o uso de variáveis\n",
    "disciplina = 'Data Sciense'\n",
    "nota_final = 70\n",
    "if disciplina == 'Data Sciense' and nota_final >=70:\n",
    "    print('você foi aprovado')\n",
    "else:\n",
    "    print(\"Lamento, você precisa estudar mais\")"
   ]
  },
  {
   "cell_type": "code",
   "execution_count": 33,
   "id": "a60a62fb",
   "metadata": {},
   "outputs": [
    {
     "name": "stdout",
     "output_type": "stream",
     "text": [
      "você foi aprovado com data science com média final 90\n"
     ]
    }
   ],
   "source": [
    "#usando mais de uma condição na clásulaa if e introduzino placeholders\n",
    "disciplina = 'data science'\n",
    "nota_final = 90\n",
    "semestre = 2\n",
    "\n",
    "if disciplina == 'data science' and nota_final >=80 and semestre != 1:\n",
    "    print(\"você foi aprovado com %s com média final %r\" %(disciplina, nota_final))\n",
    "else:\n",
    "    print(\"Lamento, você precisa estudar mais\")"
   ]
  },
  {
   "cell_type": "code",
   "execution_count": 34,
   "id": "3ab954c1",
   "metadata": {},
   "outputs": [],
   "source": [
    "#%s = guarda string\n",
    "#%r = guarda numero"
   ]
  },
  {
   "cell_type": "markdown",
   "id": "09f30a06",
   "metadata": {},
   "source": [
    "# Fim"
   ]
  }
 ],
 "metadata": {
  "kernelspec": {
   "display_name": "Python 3 (ipykernel)",
   "language": "python",
   "name": "python3"
  },
  "language_info": {
   "codemirror_mode": {
    "name": "ipython",
    "version": 3
   },
   "file_extension": ".py",
   "mimetype": "text/x-python",
   "name": "python",
   "nbconvert_exporter": "python",
   "pygments_lexer": "ipython3",
   "version": "3.9.13"
  }
 },
 "nbformat": 4,
 "nbformat_minor": 5
}
