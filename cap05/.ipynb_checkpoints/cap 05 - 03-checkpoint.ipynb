{
 "cells": [
  {
   "cell_type": "markdown",
   "id": "6e956814",
   "metadata": {},
   "source": [
    "# Loop While"
   ]
  },
  {
   "cell_type": "code",
   "execution_count": 8,
   "id": "b8eacde3",
   "metadata": {},
   "outputs": [
    {
     "name": "stdout",
     "output_type": "stream",
     "text": [
      "0\n",
      "1\n",
      "2\n",
      "3\n",
      "4\n",
      "5\n",
      "6\n",
      "7\n",
      "8\n",
      "9\n"
     ]
    }
   ],
   "source": [
    "#usando o loop while para imprimir os valores de 0 a 9\n",
    "#A condição tem que deixar de ser verdadeira dentro do loop, senão pode travar o navegador ou mesmo o computador\n",
    "valor = 0\n",
    "while valor < 10:\n",
    "    print(valor)\n",
    "    valor = valor + 1"
   ]
  },
  {
   "cell_type": "code",
   "execution_count": 9,
   "id": "43d5957f",
   "metadata": {},
   "outputs": [],
   "source": [
    "#Entra no loop somente se a condição for verdadeira\n",
    "valor = 11\n",
    "while valor < 10:\n",
    "    print(v)\n",
    "    valor = valor +1\n",
    "\n",
    "# não acontece nada porque a condição não é verdadeira, e só entra se for\n",
    "    "
   ]
  },
  {
   "cell_type": "code",
   "execution_count": 10,
   "id": "eb7b9254",
   "metadata": {},
   "outputs": [
    {
     "name": "stdout",
     "output_type": "stream",
     "text": [
      "O valor de x nesta iteração é:  0\n",
      " x ainda é menor que 10, somando 1 a x\n",
      "O valor de x nesta iteração é:  1\n",
      " x ainda é menor que 10, somando 1 a x\n",
      "O valor de x nesta iteração é:  2\n",
      " x ainda é menor que 10, somando 1 a x\n",
      "O valor de x nesta iteração é:  3\n",
      " x ainda é menor que 10, somando 1 a x\n",
      "O valor de x nesta iteração é:  4\n",
      " x ainda é menor que 10, somando 1 a x\n",
      "O valor de x nesta iteração é:  5\n",
      " x ainda é menor que 10, somando 1 a x\n",
      "O valor de x nesta iteração é:  6\n",
      " x ainda é menor que 10, somando 1 a x\n",
      "O valor de x nesta iteração é:  7\n",
      " x ainda é menor que 10, somando 1 a x\n",
      "O valor de x nesta iteração é:  8\n",
      " x ainda é menor que 10, somando 1 a x\n",
      "O valor de x nesta iteração é:  9\n",
      " x ainda é menor que 10, somando 1 a x\n",
      "Loop concluído\n",
      "10\n"
     ]
    }
   ],
   "source": [
    "#Tambem é possivel usar a clasúla else para encerrar o loop while\n",
    "# o loop while espera que em algum momento a condição deixe de ser verdadeira para parar\n",
    "x = 0\n",
    "\n",
    "while x < 10:\n",
    "    print('O valor de x nesta iteração é: ', x)\n",
    "    print(' x ainda é menor que 10, somando 1 a x')\n",
    "    x +=1\n",
    "else:\n",
    "    print('Loop concluído')\n",
    "    print(x)"
   ]
  },
  {
   "cell_type": "markdown",
   "id": "92733206",
   "metadata": {},
   "source": [
    "# Pass , Break, Continue"
   ]
  },
  {
   "cell_type": "code",
   "execution_count": 11,
   "id": "30ef409a",
   "metadata": {},
   "outputs": [
    {
     "name": "stdout",
     "output_type": "stream",
     "text": [
      "0\n",
      "1\n",
      "2\n",
      "3\n"
     ]
    }
   ],
   "source": [
    "# se encontramos o número 4 interrompemos o loop\n",
    "valor = 0\n",
    "while valor < 10:\n",
    "    if valor == 4:\n",
    "        break\n",
    "    else:\n",
    "        pass\n",
    "    print(valor)\n",
    "    valor = valor +1\n",
    "    \n",
    "    #break : para quando o numero fo 4\n",
    "    #pass : passa para o proximo quando o numero não é 4 "
   ]
  },
  {
   "cell_type": "code",
   "execution_count": 12,
   "id": "59b5aba6",
   "metadata": {},
   "outputs": [
    {
     "name": "stdout",
     "output_type": "stream",
     "text": [
      "P\n",
      "y\n",
      "t\n",
      "h\n",
      "o\n",
      "n\n",
      " \n",
      "é\n",
      " \n",
      " \n",
      "i\n",
      "n\n",
      "c\n",
      "r\n",
      "í\n",
      "v\n",
      "e\n",
      "l\n",
      "!\n"
     ]
    }
   ],
   "source": [
    "# Desconsideramos a letra z ao imprimir os caracteres da frase\n",
    "for letra in \"Python é zzz incrível!\":\n",
    "    if letra == \"z\":\n",
    "        continue\n",
    "    print(letra)"
   ]
  },
  {
   "cell_type": "markdown",
   "id": "80449b99",
   "metadata": {},
   "source": [
    "# While e For juntos"
   ]
  },
  {
   "cell_type": "code",
   "execution_count": 16,
   "id": "0bbb39ab",
   "metadata": {},
   "outputs": [
    {
     "name": "stdout",
     "output_type": "stream",
     "text": [
      "[2, 3, 5, 7, 11, 13, 17, 19, 23, 29]\n",
      "Wall time: 0 ns\n"
     ]
    }
   ],
   "source": [
    "%%time\n",
    "\n",
    "#Encontrando números primos entre 2 e 30 usando loop for e while\n",
    "#variável para armazenar números primos\n",
    "primos = []\n",
    "\n",
    "#loop for para percorrer números de 2 a 30\n",
    "for num in range(2, 31):\n",
    "    \n",
    "    #variável de controle\n",
    "    eh_primo = True\n",
    "    \n",
    "    #loop while para verificar se o número é primo\n",
    "    i = 2\n",
    "    while i <= num // 2:\n",
    "        if num % i == 0:\n",
    "            eh_primo = False\n",
    "            break\n",
    "        i += 1\n",
    "    \n",
    "    #adicionando o número primo na lista\n",
    "    if eh_primo:\n",
    "        primos.append(num)\n",
    "\n",
    "#imprimindo a lista de numeros primos \n",
    "print(primos)"
   ]
  },
  {
   "cell_type": "markdown",
   "id": "fd1d59b0",
   "metadata": {},
   "source": [
    "# Fim"
   ]
  }
 ],
 "metadata": {
  "kernelspec": {
   "display_name": "Python 3 (ipykernel)",
   "language": "python",
   "name": "python3"
  },
  "language_info": {
   "codemirror_mode": {
    "name": "ipython",
    "version": 3
   },
   "file_extension": ".py",
   "mimetype": "text/x-python",
   "name": "python",
   "nbconvert_exporter": "python",
   "pygments_lexer": "ipython3",
   "version": "3.9.13"
  }
 },
 "nbformat": 4,
 "nbformat_minor": 5
}
