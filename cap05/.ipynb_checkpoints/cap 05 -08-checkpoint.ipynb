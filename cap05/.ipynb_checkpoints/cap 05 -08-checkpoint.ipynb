{
 "cells": [
  {
   "cell_type": "markdown",
   "id": "a5d06a78",
   "metadata": {},
   "source": [
    "# List Comprehension\n",
    "é um loop dentro de uma lista :\n",
    "\n",
    "[empressão for item in iterable if condição == true]"
   ]
  },
  {
   "cell_type": "code",
   "execution_count": 2,
   "id": "c0083887",
   "metadata": {},
   "outputs": [
    {
     "data": {
      "text/plain": [
       "[0, 1, 2, 3, 4, 5, 6, 7, 8, 9]"
      ]
     },
     "execution_count": 2,
     "metadata": {},
     "output_type": "execute_result"
    }
   ],
   "source": [
    "#list comprehension que imprime os numeros ate 10\n",
    "[x for x in range(10)]\n",
    "\n",
    "#como se lê:\n",
    "#retorne x para cada valor x dentro da lista de 10 elementos"
   ]
  },
  {
   "cell_type": "code",
   "execution_count": 4,
   "id": "9a586c6a",
   "metadata": {},
   "outputs": [],
   "source": [
    "#list comprehension que imprime os numeros ate 10 e grava em uma lista Python\n",
    "lista_numeros = [x for x in range(10)]"
   ]
  },
  {
   "cell_type": "code",
   "execution_count": 5,
   "id": "74f3e122",
   "metadata": {},
   "outputs": [
    {
     "name": "stdout",
     "output_type": "stream",
     "text": [
      "[0, 1, 2, 3, 4, 5, 6, 7, 8, 9]\n"
     ]
    }
   ],
   "source": [
    "print(lista_numeros)"
   ]
  },
  {
   "cell_type": "code",
   "execution_count": 6,
   "id": "47b66648",
   "metadata": {},
   "outputs": [
    {
     "name": "stdout",
     "output_type": "stream",
     "text": [
      "[0, 1, 2, 3, 4]\n"
     ]
    }
   ],
   "source": [
    "#list comprehesion que imprime os números menores que 5 em um intervalo de 1 a 10\n",
    "lista_numeros = [x for x in range(10) if x < 5]\n",
    "print(lista_numeros)"
   ]
  },
  {
   "cell_type": "code",
   "execution_count": 7,
   "id": "dd2bf467",
   "metadata": {},
   "outputs": [],
   "source": [
    "#lista de frutas\n",
    "lista_frutas = [\"banana\", \"abacate\", \"melancia\", \"cereja\", \"manga\"]\n",
    "\n",
    "#nova lista\n",
    "nova_lista = []"
   ]
  },
  {
   "cell_type": "code",
   "execution_count": 8,
   "id": "18f87b03",
   "metadata": {},
   "outputs": [
    {
     "name": "stdout",
     "output_type": "stream",
     "text": [
      "['melancia', 'manga']\n"
     ]
    }
   ],
   "source": [
    "#loop tradicional para buscar as palavras com letra \"m\"\n",
    "for x in lista_frutas:\n",
    "    if \"m\" in x:\n",
    "        nova_lista.append(x)\n",
    "        \n",
    "print(nova_lista)"
   ]
  },
  {
   "cell_type": "code",
   "execution_count": 9,
   "id": "be9f8291",
   "metadata": {},
   "outputs": [
    {
     "name": "stdout",
     "output_type": "stream",
     "text": [
      "['melancia', 'manga']\n"
     ]
    }
   ],
   "source": [
    "#Mesmo resultado anterior mas com list comprehension\n",
    "nova_lista = [ x for x in lista_frutas if \"m\" in x]\n",
    "print(nova_lista)"
   ]
  },
  {
   "cell_type": "code",
   "execution_count": 10,
   "id": "82cca7a1",
   "metadata": {},
   "outputs": [
    {
     "name": "stdout",
     "output_type": "stream",
     "text": [
      "{'bob': 68, 'michel': 84, 'zico': 57, 'ana': 93}\n"
     ]
    }
   ],
   "source": [
    "#Dict comprehension\n",
    "\n",
    "#Dicionario de alunos e notas\n",
    "dict_alunos = {'bob': 68, 'michel':84, 'zico':57, 'ana':93}\n",
    "\n",
    "#criamos um novo dicionario imprimindo os pares de chave:valor\n",
    "dict_alunos_status = {k:v for (k,v) in dict_alunos.items()}\n",
    "print(dict_alunos_status)\n"
   ]
  },
  {
   "cell_type": "code",
   "execution_count": 11,
   "id": "6218bed2",
   "metadata": {},
   "outputs": [
    {
     "name": "stdout",
     "output_type": "stream",
     "text": [
      "{'bob': 'reprovado', 'michel': 'aprovado', 'zico': 'reprovado', 'ana': 'aprovado'}\n"
     ]
    }
   ],
   "source": [
    "#Dict comprehension\n",
    "\n",
    "#Dicionario de alunos e notas\n",
    "dict_alunos = {'bob': 68, 'michel':84, 'zico':57, 'ana':93}\n",
    "\n",
    "#criamos um novo dicionario  com o status: nota maior que 70, aprovado, senão, reprovado\n",
    "dict_alunos_status = {k: ('aprovado' if v>70 else 'reprovado') for (k,v) in dict_alunos.items()}\n",
    "print(dict_alunos_status)"
   ]
  },
  {
   "cell_type": "markdown",
   "id": "1e924528",
   "metadata": {},
   "source": [
    "# fim"
   ]
  },
  {
   "cell_type": "code",
   "execution_count": null,
   "id": "74c3ddeb",
   "metadata": {},
   "outputs": [],
   "source": []
  }
 ],
 "metadata": {
  "kernelspec": {
   "display_name": "Python 3 (ipykernel)",
   "language": "python",
   "name": "python3"
  },
  "language_info": {
   "codemirror_mode": {
    "name": "ipython",
    "version": 3
   },
   "file_extension": ".py",
   "mimetype": "text/x-python",
   "name": "python",
   "nbconvert_exporter": "python",
   "pygments_lexer": "ipython3",
   "version": "3.9.13"
  }
 },
 "nbformat": 4,
 "nbformat_minor": 5
}
