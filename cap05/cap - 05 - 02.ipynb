{
 "cells": [
  {
   "cell_type": "markdown",
   "id": "2ef93277",
   "metadata": {},
   "source": [
    "# Loop For"
   ]
  },
  {
   "cell_type": "code",
   "execution_count": 1,
   "id": "6e58143b",
   "metadata": {},
   "outputs": [
    {
     "name": "stdout",
     "output_type": "stream",
     "text": [
      "2\n",
      "3\n",
      "4\n"
     ]
    }
   ],
   "source": [
    "#criando uma tupla e imprimindo cada um dos valores\n",
    "tp = (2,3,4)\n",
    "for i in tp:\n",
    "    print(i)"
   ]
  },
  {
   "cell_type": "code",
   "execution_count": 4,
   "id": "edd24a24",
   "metadata": {},
   "outputs": [
    {
     "name": "stdout",
     "output_type": "stream",
     "text": [
      "data\n",
      "science\n",
      "academy\n"
     ]
    }
   ],
   "source": [
    "#criando uma lista e imprimindo um dos valores\n",
    "listaDeString = [\"data\", \"science\", \"academy\"]\n",
    "for i in listaDeString:\n",
    "    print(i)"
   ]
  },
  {
   "cell_type": "code",
   "execution_count": 3,
   "id": "b74046af",
   "metadata": {},
   "outputs": [
    {
     "name": "stdout",
     "output_type": "stream",
     "text": [
      "0\n",
      "1\n",
      "2\n",
      "3\n",
      "4\n"
     ]
    }
   ],
   "source": [
    "#imprimindo os valores no intervalo entre 0 e 5 (exclusive)\n",
    "for contador in range(0,5): # o ultimo numero é exclusivo (5) por isso n aparece\n",
    "    print(contador)"
   ]
  },
  {
   "cell_type": "code",
   "execution_count": 5,
   "id": "27916b5d",
   "metadata": {},
   "outputs": [
    {
     "name": "stdout",
     "output_type": "stream",
     "text": [
      "2\n",
      "4\n",
      "6\n",
      "8\n",
      "10\n"
     ]
    }
   ],
   "source": [
    "#imprimindo os numeros pares da lista de numeros\n",
    "lista = [1,2,3,4,5,6,7,8,9,10]\n",
    "for num in lista:\n",
    "    if num % 2 ==0:\n",
    "        print(num)"
   ]
  },
  {
   "cell_type": "code",
   "execution_count": 6,
   "id": "d76aa353",
   "metadata": {},
   "outputs": [
    {
     "name": "stdout",
     "output_type": "stream",
     "text": [
      "0\n",
      "2\n",
      "4\n",
      "6\n",
      "8\n",
      "10\n",
      "12\n",
      "14\n",
      "16\n",
      "18\n",
      "20\n",
      "22\n",
      "24\n",
      "26\n",
      "28\n",
      "30\n",
      "32\n",
      "34\n",
      "36\n",
      "38\n",
      "40\n",
      "42\n",
      "44\n",
      "46\n",
      "48\n",
      "50\n",
      "52\n",
      "54\n",
      "56\n",
      "58\n",
      "60\n",
      "62\n",
      "64\n",
      "66\n",
      "68\n",
      "70\n",
      "72\n",
      "74\n",
      "76\n",
      "78\n",
      "80\n",
      "82\n",
      "84\n",
      "86\n",
      "88\n",
      "90\n",
      "92\n",
      "94\n",
      "96\n",
      "98\n",
      "100\n"
     ]
    }
   ],
   "source": [
    "#listando os números no intervalo entre 0 a 101, com incremento em 2\n",
    "for i in range(0,101,2):\n",
    "    print(i)"
   ]
  },
  {
   "cell_type": "code",
   "execution_count": 7,
   "id": "58863f6b",
   "metadata": {},
   "outputs": [
    {
     "name": "stdout",
     "output_type": "stream",
     "text": [
      "p\n",
      "y\n",
      "t\n",
      "h\n",
      "o\n",
      "n\n",
      " \n",
      "é\n",
      " \n",
      "u\n",
      "m\n",
      "a\n",
      " \n",
      "l\n",
      "i\n",
      "n\n",
      "g\n",
      "u\n",
      "a\n",
      "g\n",
      "e\n",
      "m\n",
      " \n",
      "d\n",
      "e\n",
      " \n",
      "p\n",
      "r\n",
      "o\n",
      "g\n",
      "r\n",
      "a\n",
      "m\n",
      "a\n",
      "ç\n",
      "ã\n",
      "o\n",
      " \n",
      "d\n",
      "i\n",
      "v\n",
      "e\n",
      "r\n",
      "t\n",
      "i\n",
      "d\n",
      "a\n",
      "!\n"
     ]
    }
   ],
   "source": [
    "#strings também são sequênciais\n",
    "for caracter in \"python é uma linguagem de programação divertida!\":\n",
    "    print(caracter)"
   ]
  },
  {
   "cell_type": "markdown",
   "id": "ab5fccc7",
   "metadata": {},
   "source": [
    "# Loop For Aninhado"
   ]
  },
  {
   "cell_type": "code",
   "execution_count": 8,
   "id": "2176e112",
   "metadata": {},
   "outputs": [
    {
     "name": "stdout",
     "output_type": "stream",
     "text": [
      "\n",
      " 0\n",
      "\n",
      " 0\n",
      "\n",
      " 0\n",
      "----\n",
      "\n",
      " 1\n",
      "\n",
      " 2\n",
      "\n",
      " 3\n",
      "----\n",
      "\n",
      " 2\n",
      "\n",
      " 4\n",
      "\n",
      " 6\n",
      "----\n",
      "\n",
      " 3\n",
      "\n",
      " 6\n",
      "\n",
      " 9\n",
      "----\n",
      "\n",
      " 4\n",
      "\n",
      " 8\n",
      "\n",
      " 12\n",
      "----\n"
     ]
    }
   ],
   "source": [
    "#Loops aninhados\n",
    "\n",
    "lista1 = [0,1,2,3,4]\n",
    "lista2 = [1,2,3]\n",
    "\n",
    "#loop externo\n",
    "for elemento_lista1 in lista1:\n",
    "    \n",
    "    #loop interno\n",
    "    for elemento_lista2 in lista2:\n",
    "        \n",
    "        print('\\n', elemento_lista1 * elemento_lista2)\n",
    "    print('----')\n"
   ]
  },
  {
   "cell_type": "code",
   "execution_count": 11,
   "id": "8cbc2276",
   "metadata": {},
   "outputs": [
    {
     "name": "stdout",
     "output_type": "stream",
     "text": [
      "O número 47 foi encontrado nas duas listas\n"
     ]
    }
   ],
   "source": [
    "#numero 47 aparece nas duas listas ?\n",
    "lista1 = [10,16,24,39,47]\n",
    "lista2 = [32,89,47,76,12]\n",
    "\n",
    "#loop externo\n",
    "for elemento_lista1 in lista1:\n",
    "    \n",
    "    #loop interno \n",
    "    for elemento_lista2 in lista2:\n",
    "        \n",
    "        #condicional\n",
    "        if elemento_lista1 == 47 and elemento_lista2 == 47:\n",
    "            print(\"O número 47 foi encontrado nas duas listas\")"
   ]
  },
  {
   "cell_type": "code",
   "execution_count": 12,
   "id": "37ea6af8",
   "metadata": {},
   "outputs": [
    {
     "name": "stdout",
     "output_type": "stream",
     "text": [
      "O soma dos numeros pares das suas listas é igual a 170\n"
     ]
    }
   ],
   "source": [
    "#some os número pares da primeira lista com os números pares da segunda lista\n",
    "lista1 = [10,16,24,39,47]\n",
    "lista2 = [32,89,47,76,12]\n",
    "soma = 0\n",
    "\n",
    "#loop externo\n",
    "for lista in [lista1, lista2]:\n",
    "    \n",
    "    #loop interno\n",
    "    for num in lista:\n",
    "        \n",
    "        #condicional\n",
    "        if num %2 == 0:\n",
    "            soma += num\n",
    "print(\"O soma dos numeros pares das suas listas é igual a\", soma)"
   ]
  },
  {
   "cell_type": "code",
   "execution_count": 13,
   "id": "615659df",
   "metadata": {},
   "outputs": [
    {
     "data": {
      "text/plain": [
       "[10, 16, 24, 39, 47, 32, 89, 47, 76, 12]"
      ]
     },
     "execution_count": 13,
     "metadata": {},
     "output_type": "execute_result"
    }
   ],
   "source": [
    "# listas podem ser concatenadas em python\n",
    "lista1 + lista2"
   ]
  },
  {
   "cell_type": "code",
   "execution_count": 14,
   "id": "f79c0554",
   "metadata": {},
   "outputs": [
    {
     "name": "stdout",
     "output_type": "stream",
     "text": [
      "Soma dos valores pares : 170\n"
     ]
    }
   ],
   "source": [
    "# some os números pares da primeira lista com os números pares da segunda lista\n",
    "lista1 = [10,16,24,39,47]\n",
    "lista2 = [32,89,47,76,12]\n",
    "soma = 0\n",
    "\n",
    "for num in lista1 + lista2:\n",
    "    if num % 2 ==0 :\n",
    "        soma += num\n",
    "        \n",
    "print(\"Soma dos valores pares :\", soma)\n",
    "\n",
    "\n",
    "\n"
   ]
  },
  {
   "cell_type": "code",
   "execution_count": 15,
   "id": "5c59a86f",
   "metadata": {},
   "outputs": [
    {
     "name": "stdout",
     "output_type": "stream",
     "text": [
      "Maior numero: 215\n"
     ]
    }
   ],
   "source": [
    "#loop em lista de listas (matrizes) para encontrar o maior número\n",
    "#algoritimo de busca\n",
    "\n",
    "matriz = [[42,23,34], [100,215,114], [10.1,98.7,12.3]]\n",
    "maior_numero = 0\n",
    "\n",
    "#loop externo\n",
    "for linha in matriz:\n",
    "    \n",
    "    #loop interno\n",
    "    for num in linha:\n",
    "        \n",
    "        #condicional\n",
    "        if num > maior_numero:\n",
    "            maior_numero=num\n",
    "print(\"Maior numero:\", maior_numero)"
   ]
  },
  {
   "cell_type": "code",
   "execution_count": 16,
   "id": "2bd6d198",
   "metadata": {},
   "outputs": [
    {
     "name": "stdout",
     "output_type": "stream",
     "text": [
      "k1\n",
      "k2\n",
      "k3\n"
     ]
    }
   ],
   "source": [
    "#listando as chaves de um dicionário\n",
    "dict = {'k1':'python', 'k2':'R', 'k3':'scala'}\n",
    "for item in dict:\n",
    "    print(item)"
   ]
  },
  {
   "cell_type": "code",
   "execution_count": 17,
   "id": "d25e5ee1",
   "metadata": {},
   "outputs": [
    {
     "name": "stdout",
     "output_type": "stream",
     "text": [
      "k1 python\n",
      "k2 R\n",
      "k3 scala\n"
     ]
    }
   ],
   "source": [
    "#imprimindo chave e valor de dicionario. Usando o método items() para retornar os itens de um dicionário\n",
    "for k,v in dict.items():\n",
    "    print(k,v)"
   ]
  },
  {
   "cell_type": "markdown",
   "id": "15858662",
   "metadata": {},
   "source": [
    "# Fim"
   ]
  }
 ],
 "metadata": {
  "kernelspec": {
   "display_name": "Python 3 (ipykernel)",
   "language": "python",
   "name": "python3"
  },
  "language_info": {
   "codemirror_mode": {
    "name": "ipython",
    "version": 3
   },
   "file_extension": ".py",
   "mimetype": "text/x-python",
   "name": "python",
   "nbconvert_exporter": "python",
   "pygments_lexer": "ipython3",
   "version": "3.9.13"
  }
 },
 "nbformat": 4,
 "nbformat_minor": 5
}
